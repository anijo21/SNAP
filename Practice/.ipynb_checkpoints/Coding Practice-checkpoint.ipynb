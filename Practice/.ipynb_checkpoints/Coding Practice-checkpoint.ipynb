{
 "cells": [
  {
   "cell_type": "code",
   "execution_count": 1,
   "id": "b2ce781e-58db-478c-a8b6-bad697c0797f",
   "metadata": {
    "tags": []
   },
   "outputs": [],
   "source": [
    "name = \"john smith\""
   ]
  },
  {
   "cell_type": "code",
   "execution_count": 2,
   "id": "c01e106f-da8a-4a5d-b626-72900d4f76ea",
   "metadata": {
    "tags": []
   },
   "outputs": [],
   "source": [
    "age = 20"
   ]
  },
  {
   "cell_type": "code",
   "execution_count": 3,
   "id": "e41f05e5-ab9c-4326-9ed7-5652e67892b1",
   "metadata": {
    "tags": []
   },
   "outputs": [
    {
     "name": "stdout",
     "output_type": "stream",
     "text": [
      "john smith\n"
     ]
    }
   ],
   "source": [
    "print (name)"
   ]
  },
  {
   "cell_type": "code",
   "execution_count": 4,
   "id": "7ff8d531-fa58-4a4b-931e-690f47ef2406",
   "metadata": {
    "tags": []
   },
   "outputs": [],
   "source": [
    "new_patient = True"
   ]
  },
  {
   "cell_type": "code",
   "execution_count": 5,
   "id": "b69b8bb4-e34d-4074-be3e-b12445a89f1e",
   "metadata": {
    "tags": []
   },
   "outputs": [
    {
     "name": "stdin",
     "output_type": "stream",
     "text": [
      "What is your name?  John\n"
     ]
    },
    {
     "data": {
      "text/plain": [
       "'John'"
      ]
     },
     "execution_count": 5,
     "metadata": {},
     "output_type": "execute_result"
    }
   ],
   "source": [
    "input (\"What is your name? \")"
   ]
  },
  {
   "cell_type": "code",
   "execution_count": 6,
   "id": "1b95b332-3d60-4a76-b808-fe477723f517",
   "metadata": {
    "tags": []
   },
   "outputs": [
    {
     "name": "stdout",
     "output_type": "stream",
     "text": [
      "Hello john smith\n"
     ]
    }
   ],
   "source": [
    "print (\"Hello \" + name)"
   ]
  },
  {
   "cell_type": "code",
   "execution_count": 20,
   "id": "62273186-f174-4d83-b59e-d21baffd8b8a",
   "metadata": {
    "tags": []
   },
   "outputs": [
    {
     "ename": "SyntaxError",
     "evalue": "invalid syntax (480436460.py, line 1)",
     "output_type": "error",
     "traceback": [
      "\u001b[1;36m  Cell \u001b[1;32mIn[20], line 1\u001b[1;36m\u001b[0m\n\u001b[1;33m    input \"Enter your birth year: \"\u001b[0m\n\u001b[1;37m          ^\u001b[0m\n\u001b[1;31mSyntaxError\u001b[0m\u001b[1;31m:\u001b[0m invalid syntax\n"
     ]
    }
   ],
   "source": [
    "input (\"Enter your birth year: \")"
   ]
  },
  {
   "cell_type": "code",
   "execution_count": null,
   "id": "ada457c5-7565-4364-9c57-82cd9bedc5c1",
   "metadata": {},
   "outputs": [],
   "source": []
  }
 ],
 "metadata": {
  "kernelspec": {
   "display_name": "Python 3 (ipykernel)",
   "language": "python",
   "name": "python3"
  },
  "language_info": {
   "codemirror_mode": {
    "name": "ipython",
    "version": 3
   },
   "file_extension": ".py",
   "mimetype": "text/x-python",
   "name": "python",
   "nbconvert_exporter": "python",
   "pygments_lexer": "ipython3",
   "version": "3.11.5"
  }
 },
 "nbformat": 4,
 "nbformat_minor": 5
}
