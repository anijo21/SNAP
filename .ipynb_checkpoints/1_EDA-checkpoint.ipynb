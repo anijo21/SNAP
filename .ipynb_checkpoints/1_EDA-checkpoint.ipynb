{
 "cells": [
  {
   "cell_type": "code",
   "execution_count": 9,
   "id": "a491be3d-1778-45c4-8a6f-5b047f89b704",
   "metadata": {
    "tags": []
   },
   "outputs": [],
   "source": [
    "import pandas as pd\n",
    "import numpy as np\n",
    "import matplotlib.pyplot as plt\n",
    "import seaborn as sns\n",
    "\n",
    "from sklearn.impute import SimpleImputer\n",
    "\n",
    "import python_code.Scripts as sc\n",
    "import python_code.Reference as ref"
   ]
  },
  {
   "cell_type": "code",
   "execution_count": 10,
   "id": "64db276d-565e-4b47-b4f1-0ed7f92b5861",
   "metadata": {
    "tags": []
   },
   "outputs": [],
   "source": [
    "snap07 = pd.read_spss('./data/qc_pub_fy2007.sav')"
   ]
  },
  {
   "cell_type": "code",
   "execution_count": 11,
   "id": "db349d55-96d4-4c79-98f2-3650d28323dd",
   "metadata": {
    "tags": []
   },
   "outputs": [
    {
     "data": {
      "text/html": [
       "<div>\n",
       "<style scoped>\n",
       "    .dataframe tbody tr th:only-of-type {\n",
       "        vertical-align: middle;\n",
       "    }\n",
       "\n",
       "    .dataframe tbody tr th {\n",
       "        vertical-align: top;\n",
       "    }\n",
       "\n",
       "    .dataframe thead th {\n",
       "        text-align: right;\n",
       "    }\n",
       "</style>\n",
       "<table border=\"1\" class=\"dataframe\">\n",
       "  <thead>\n",
       "    <tr style=\"text-align: right;\">\n",
       "      <th></th>\n",
       "      <th>FSAFIL1</th>\n",
       "      <th>FSAFIL2</th>\n",
       "      <th>FSAFIL3</th>\n",
       "      <th>FSAFIL4</th>\n",
       "      <th>FSAFIL5</th>\n",
       "      <th>FSAFIL6</th>\n",
       "      <th>FSAFIL7</th>\n",
       "      <th>FSAFIL8</th>\n",
       "      <th>FSAFIL9</th>\n",
       "      <th>FSAFIL10</th>\n",
       "      <th>...</th>\n",
       "      <th>NDISCA7</th>\n",
       "      <th>NDISCA8</th>\n",
       "      <th>NDISCA9</th>\n",
       "      <th>NDISCA10</th>\n",
       "      <th>NDISCA11</th>\n",
       "      <th>NDISCA12</th>\n",
       "      <th>NDISCA13</th>\n",
       "      <th>NDISCA14</th>\n",
       "      <th>NDISCA15</th>\n",
       "      <th>NDISCA16</th>\n",
       "    </tr>\n",
       "  </thead>\n",
       "  <tbody>\n",
       "    <tr>\n",
       "      <th>0</th>\n",
       "      <td>1.0</td>\n",
       "      <td>1.0</td>\n",
       "      <td>1.0</td>\n",
       "      <td>NaN</td>\n",
       "      <td>NaN</td>\n",
       "      <td>NaN</td>\n",
       "      <td>NaN</td>\n",
       "      <td>NaN</td>\n",
       "      <td>NaN</td>\n",
       "      <td>NaN</td>\n",
       "      <td>...</td>\n",
       "      <td>NaN</td>\n",
       "      <td>NaN</td>\n",
       "      <td>NaN</td>\n",
       "      <td>NaN</td>\n",
       "      <td>NaN</td>\n",
       "      <td>NaN</td>\n",
       "      <td>NaN</td>\n",
       "      <td>NaN</td>\n",
       "      <td>NaN</td>\n",
       "      <td>NaN</td>\n",
       "    </tr>\n",
       "    <tr>\n",
       "      <th>1</th>\n",
       "      <td>1.0</td>\n",
       "      <td>1.0</td>\n",
       "      <td>1.0</td>\n",
       "      <td>1.0</td>\n",
       "      <td>1.0</td>\n",
       "      <td>NaN</td>\n",
       "      <td>NaN</td>\n",
       "      <td>NaN</td>\n",
       "      <td>NaN</td>\n",
       "      <td>NaN</td>\n",
       "      <td>...</td>\n",
       "      <td>NaN</td>\n",
       "      <td>NaN</td>\n",
       "      <td>NaN</td>\n",
       "      <td>NaN</td>\n",
       "      <td>NaN</td>\n",
       "      <td>NaN</td>\n",
       "      <td>NaN</td>\n",
       "      <td>NaN</td>\n",
       "      <td>NaN</td>\n",
       "      <td>NaN</td>\n",
       "    </tr>\n",
       "    <tr>\n",
       "      <th>2</th>\n",
       "      <td>1.0</td>\n",
       "      <td>1.0</td>\n",
       "      <td>NaN</td>\n",
       "      <td>NaN</td>\n",
       "      <td>NaN</td>\n",
       "      <td>NaN</td>\n",
       "      <td>NaN</td>\n",
       "      <td>NaN</td>\n",
       "      <td>NaN</td>\n",
       "      <td>NaN</td>\n",
       "      <td>...</td>\n",
       "      <td>NaN</td>\n",
       "      <td>NaN</td>\n",
       "      <td>NaN</td>\n",
       "      <td>NaN</td>\n",
       "      <td>NaN</td>\n",
       "      <td>NaN</td>\n",
       "      <td>NaN</td>\n",
       "      <td>NaN</td>\n",
       "      <td>NaN</td>\n",
       "      <td>NaN</td>\n",
       "    </tr>\n",
       "    <tr>\n",
       "      <th>3</th>\n",
       "      <td>1.0</td>\n",
       "      <td>NaN</td>\n",
       "      <td>NaN</td>\n",
       "      <td>NaN</td>\n",
       "      <td>NaN</td>\n",
       "      <td>NaN</td>\n",
       "      <td>NaN</td>\n",
       "      <td>NaN</td>\n",
       "      <td>NaN</td>\n",
       "      <td>NaN</td>\n",
       "      <td>...</td>\n",
       "      <td>NaN</td>\n",
       "      <td>NaN</td>\n",
       "      <td>NaN</td>\n",
       "      <td>NaN</td>\n",
       "      <td>NaN</td>\n",
       "      <td>NaN</td>\n",
       "      <td>NaN</td>\n",
       "      <td>NaN</td>\n",
       "      <td>NaN</td>\n",
       "      <td>NaN</td>\n",
       "    </tr>\n",
       "    <tr>\n",
       "      <th>4</th>\n",
       "      <td>1.0</td>\n",
       "      <td>1.0</td>\n",
       "      <td>1.0</td>\n",
       "      <td>1.0</td>\n",
       "      <td>1.0</td>\n",
       "      <td>NaN</td>\n",
       "      <td>NaN</td>\n",
       "      <td>NaN</td>\n",
       "      <td>NaN</td>\n",
       "      <td>NaN</td>\n",
       "      <td>...</td>\n",
       "      <td>NaN</td>\n",
       "      <td>NaN</td>\n",
       "      <td>NaN</td>\n",
       "      <td>NaN</td>\n",
       "      <td>NaN</td>\n",
       "      <td>NaN</td>\n",
       "      <td>NaN</td>\n",
       "      <td>NaN</td>\n",
       "      <td>NaN</td>\n",
       "      <td>NaN</td>\n",
       "    </tr>\n",
       "  </tbody>\n",
       "</table>\n",
       "<p>5 rows × 769 columns</p>\n",
       "</div>"
      ],
      "text/plain": [
       "   FSAFIL1  FSAFIL2  FSAFIL3  FSAFIL4  FSAFIL5  FSAFIL6  FSAFIL7  FSAFIL8  \\\n",
       "0      1.0      1.0      1.0      NaN      NaN      NaN      NaN      NaN   \n",
       "1      1.0      1.0      1.0      1.0      1.0      NaN      NaN      NaN   \n",
       "2      1.0      1.0      NaN      NaN      NaN      NaN      NaN      NaN   \n",
       "3      1.0      NaN      NaN      NaN      NaN      NaN      NaN      NaN   \n",
       "4      1.0      1.0      1.0      1.0      1.0      NaN      NaN      NaN   \n",
       "\n",
       "   FSAFIL9  FSAFIL10  ...  NDISCA7  NDISCA8  NDISCA9  NDISCA10  NDISCA11  \\\n",
       "0      NaN       NaN  ...      NaN      NaN      NaN       NaN       NaN   \n",
       "1      NaN       NaN  ...      NaN      NaN      NaN       NaN       NaN   \n",
       "2      NaN       NaN  ...      NaN      NaN      NaN       NaN       NaN   \n",
       "3      NaN       NaN  ...      NaN      NaN      NaN       NaN       NaN   \n",
       "4      NaN       NaN  ...      NaN      NaN      NaN       NaN       NaN   \n",
       "\n",
       "   NDISCA12  NDISCA13  NDISCA14  NDISCA15  NDISCA16  \n",
       "0       NaN       NaN       NaN       NaN       NaN  \n",
       "1       NaN       NaN       NaN       NaN       NaN  \n",
       "2       NaN       NaN       NaN       NaN       NaN  \n",
       "3       NaN       NaN       NaN       NaN       NaN  \n",
       "4       NaN       NaN       NaN       NaN       NaN  \n",
       "\n",
       "[5 rows x 769 columns]"
      ]
     },
     "execution_count": 11,
     "metadata": {},
     "output_type": "execute_result"
    }
   ],
   "source": [
    "snap07.head(5)"
   ]
  },
  {
   "cell_type": "code",
   "execution_count": 12,
   "id": "ba51bbf3-09b6-4319-ab7d-bb2a170b6544",
   "metadata": {
    "tags": []
   },
   "outputs": [
    {
     "data": {
      "text/plain": [
       "(47469, 769)"
      ]
     },
     "execution_count": 12,
     "metadata": {},
     "output_type": "execute_result"
    }
   ],
   "source": [
    "snap07.shape"
   ]
  },
  {
   "cell_type": "code",
   "execution_count": 13,
   "id": "2fff70a5-249e-416f-9ccf-0825375ff556",
   "metadata": {
    "tags": []
   },
   "outputs": [
    {
     "name": "stdout",
     "output_type": "stream",
     "text": [
      "<class 'pandas.core.frame.DataFrame'>\n",
      "RangeIndex: 47469 entries, 0 to 47468\n",
      "Columns: 769 entries, FSAFIL1 to NDISCA16\n",
      "dtypes: float64(769)\n",
      "memory usage: 278.5 MB\n"
     ]
    }
   ],
   "source": [
    "snap07.info()"
   ]
  },
  {
   "cell_type": "code",
   "execution_count": 14,
   "id": "79ab3b87-b79b-45ae-9063-66515ccc985a",
   "metadata": {
    "tags": []
   },
   "outputs": [
    {
     "data": {
      "text/plain": [
       "FSAFIL1         0\n",
       "FSAFIL2     20739\n",
       "FSAFIL3     29470\n",
       "FSAFIL4     36884\n",
       "FSAFIL5     42301\n",
       "            ...  \n",
       "NDISCA12    47455\n",
       "NDISCA13    47463\n",
       "NDISCA14    47466\n",
       "NDISCA15    47469\n",
       "NDISCA16    47469\n",
       "Length: 769, dtype: int64"
      ]
     },
     "execution_count": 14,
     "metadata": {},
     "output_type": "execute_result"
    }
   ],
   "source": [
    "snap07.isnull().sum()"
   ]
  },
  {
   "cell_type": "markdown",
   "id": "76584e99-d9c8-4674-9160-81a274547908",
   "metadata": {},
   "source": [
    "## *2017 Data*"
   ]
  },
  {
   "cell_type": "code",
   "execution_count": 15,
   "id": "71c1ff1e-1393-4bf9-b28f-34000d5c9d12",
   "metadata": {
    "tags": []
   },
   "outputs": [],
   "source": [
    "snap17 = pd.read_csv('./data/qc_pub_fy2017.csv')"
   ]
  },
  {
   "cell_type": "code",
   "execution_count": 16,
   "id": "cf1d0c57-3f55-4468-b599-60dfa12407d7",
   "metadata": {
    "tags": []
   },
   "outputs": [
    {
     "data": {
      "text/html": [
       "<div>\n",
       "<style scoped>\n",
       "    .dataframe tbody tr th:only-of-type {\n",
       "        vertical-align: middle;\n",
       "    }\n",
       "\n",
       "    .dataframe tbody tr th {\n",
       "        vertical-align: top;\n",
       "    }\n",
       "\n",
       "    .dataframe thead th {\n",
       "        text-align: right;\n",
       "    }\n",
       "</style>\n",
       "<table border=\"1\" class=\"dataframe\">\n",
       "  <thead>\n",
       "    <tr style=\"text-align: right;\">\n",
       "      <th></th>\n",
       "      <th>FSAFIL1</th>\n",
       "      <th>FSAFIL2</th>\n",
       "      <th>FSAFIL3</th>\n",
       "      <th>FSAFIL4</th>\n",
       "      <th>FSAFIL5</th>\n",
       "      <th>FSAFIL6</th>\n",
       "      <th>FSAFIL7</th>\n",
       "      <th>FSAFIL8</th>\n",
       "      <th>FSAFIL9</th>\n",
       "      <th>FSAFIL10</th>\n",
       "      <th>...</th>\n",
       "      <th>WORK12</th>\n",
       "      <th>WORK13</th>\n",
       "      <th>WORK14</th>\n",
       "      <th>WORK15</th>\n",
       "      <th>WORK16</th>\n",
       "      <th>FSNONCIT</th>\n",
       "      <th>FSDIS</th>\n",
       "      <th>FSELDER</th>\n",
       "      <th>FSKID</th>\n",
       "      <th>STATENAME</th>\n",
       "    </tr>\n",
       "  </thead>\n",
       "  <tbody>\n",
       "    <tr>\n",
       "      <th>0</th>\n",
       "      <td>1</td>\n",
       "      <td>NaN</td>\n",
       "      <td>NaN</td>\n",
       "      <td>NaN</td>\n",
       "      <td>NaN</td>\n",
       "      <td>NaN</td>\n",
       "      <td>NaN</td>\n",
       "      <td>NaN</td>\n",
       "      <td>NaN</td>\n",
       "      <td>NaN</td>\n",
       "      <td>...</td>\n",
       "      <td>NaN</td>\n",
       "      <td>NaN</td>\n",
       "      <td>NaN</td>\n",
       "      <td>NaN</td>\n",
       "      <td>NaN</td>\n",
       "      <td>0</td>\n",
       "      <td>1</td>\n",
       "      <td>0</td>\n",
       "      <td>0</td>\n",
       "      <td>Connecticut</td>\n",
       "    </tr>\n",
       "    <tr>\n",
       "      <th>1</th>\n",
       "      <td>1</td>\n",
       "      <td>NaN</td>\n",
       "      <td>NaN</td>\n",
       "      <td>NaN</td>\n",
       "      <td>NaN</td>\n",
       "      <td>NaN</td>\n",
       "      <td>NaN</td>\n",
       "      <td>NaN</td>\n",
       "      <td>NaN</td>\n",
       "      <td>NaN</td>\n",
       "      <td>...</td>\n",
       "      <td>NaN</td>\n",
       "      <td>NaN</td>\n",
       "      <td>NaN</td>\n",
       "      <td>NaN</td>\n",
       "      <td>NaN</td>\n",
       "      <td>0</td>\n",
       "      <td>0</td>\n",
       "      <td>0</td>\n",
       "      <td>0</td>\n",
       "      <td>Connecticut</td>\n",
       "    </tr>\n",
       "    <tr>\n",
       "      <th>2</th>\n",
       "      <td>1</td>\n",
       "      <td>NaN</td>\n",
       "      <td>NaN</td>\n",
       "      <td>NaN</td>\n",
       "      <td>NaN</td>\n",
       "      <td>NaN</td>\n",
       "      <td>NaN</td>\n",
       "      <td>NaN</td>\n",
       "      <td>NaN</td>\n",
       "      <td>NaN</td>\n",
       "      <td>...</td>\n",
       "      <td>NaN</td>\n",
       "      <td>NaN</td>\n",
       "      <td>NaN</td>\n",
       "      <td>NaN</td>\n",
       "      <td>NaN</td>\n",
       "      <td>0</td>\n",
       "      <td>0</td>\n",
       "      <td>0</td>\n",
       "      <td>0</td>\n",
       "      <td>Connecticut</td>\n",
       "    </tr>\n",
       "    <tr>\n",
       "      <th>3</th>\n",
       "      <td>1</td>\n",
       "      <td>NaN</td>\n",
       "      <td>NaN</td>\n",
       "      <td>NaN</td>\n",
       "      <td>NaN</td>\n",
       "      <td>NaN</td>\n",
       "      <td>NaN</td>\n",
       "      <td>NaN</td>\n",
       "      <td>NaN</td>\n",
       "      <td>NaN</td>\n",
       "      <td>...</td>\n",
       "      <td>NaN</td>\n",
       "      <td>NaN</td>\n",
       "      <td>NaN</td>\n",
       "      <td>NaN</td>\n",
       "      <td>NaN</td>\n",
       "      <td>0</td>\n",
       "      <td>1</td>\n",
       "      <td>0</td>\n",
       "      <td>0</td>\n",
       "      <td>Connecticut</td>\n",
       "    </tr>\n",
       "    <tr>\n",
       "      <th>4</th>\n",
       "      <td>1</td>\n",
       "      <td>1.0</td>\n",
       "      <td>NaN</td>\n",
       "      <td>NaN</td>\n",
       "      <td>NaN</td>\n",
       "      <td>NaN</td>\n",
       "      <td>NaN</td>\n",
       "      <td>NaN</td>\n",
       "      <td>NaN</td>\n",
       "      <td>NaN</td>\n",
       "      <td>...</td>\n",
       "      <td>NaN</td>\n",
       "      <td>NaN</td>\n",
       "      <td>NaN</td>\n",
       "      <td>NaN</td>\n",
       "      <td>NaN</td>\n",
       "      <td>0</td>\n",
       "      <td>0</td>\n",
       "      <td>1</td>\n",
       "      <td>0</td>\n",
       "      <td>Connecticut</td>\n",
       "    </tr>\n",
       "  </tbody>\n",
       "</table>\n",
       "<p>5 rows × 814 columns</p>\n",
       "</div>"
      ],
      "text/plain": [
       "   FSAFIL1  FSAFIL2  FSAFIL3  FSAFIL4  FSAFIL5  FSAFIL6  FSAFIL7  FSAFIL8  \\\n",
       "0        1      NaN      NaN      NaN      NaN      NaN      NaN      NaN   \n",
       "1        1      NaN      NaN      NaN      NaN      NaN      NaN      NaN   \n",
       "2        1      NaN      NaN      NaN      NaN      NaN      NaN      NaN   \n",
       "3        1      NaN      NaN      NaN      NaN      NaN      NaN      NaN   \n",
       "4        1      1.0      NaN      NaN      NaN      NaN      NaN      NaN   \n",
       "\n",
       "   FSAFIL9  FSAFIL10  ...  WORK12  WORK13  WORK14  WORK15  WORK16  FSNONCIT  \\\n",
       "0      NaN       NaN  ...     NaN     NaN     NaN     NaN     NaN         0   \n",
       "1      NaN       NaN  ...     NaN     NaN     NaN     NaN     NaN         0   \n",
       "2      NaN       NaN  ...     NaN     NaN     NaN     NaN     NaN         0   \n",
       "3      NaN       NaN  ...     NaN     NaN     NaN     NaN     NaN         0   \n",
       "4      NaN       NaN  ...     NaN     NaN     NaN     NaN     NaN         0   \n",
       "\n",
       "   FSDIS  FSELDER  FSKID    STATENAME  \n",
       "0      1        0      0  Connecticut  \n",
       "1      0        0      0  Connecticut  \n",
       "2      0        0      0  Connecticut  \n",
       "3      1        0      0  Connecticut  \n",
       "4      0        1      0  Connecticut  \n",
       "\n",
       "[5 rows x 814 columns]"
      ]
     },
     "execution_count": 16,
     "metadata": {},
     "output_type": "execute_result"
    }
   ],
   "source": [
    "snap17.head(5)"
   ]
  },
  {
   "cell_type": "code",
   "execution_count": 17,
   "id": "3ebf4d3f-c302-4678-a78d-afe7a7b3a267",
   "metadata": {
    "tags": []
   },
   "outputs": [
    {
     "name": "stdout",
     "output_type": "stream",
     "text": [
      "<class 'pandas.core.frame.DataFrame'>\n",
      "RangeIndex: 45530 entries, 0 to 45529\n",
      "Columns: 814 entries, FSAFIL1 to STATENAME\n",
      "dtypes: float64(368), int64(445), object(1)\n",
      "memory usage: 282.8+ MB\n"
     ]
    }
   ],
   "source": [
    "snap17.info()"
   ]
  },
  {
   "cell_type": "code",
   "execution_count": 18,
   "id": "a79ec408-64eb-4a68-9a40-48fd887acdeb",
   "metadata": {
    "tags": []
   },
   "outputs": [
    {
     "data": {
      "text/plain": [
       "FSAFIL1          0\n",
       "FSAFIL2      22368\n",
       "FSAFIL3      30458\n",
       "FSAFIL4      36350\n",
       "FSAFIL5      40801\n",
       "             ...  \n",
       "FSNONCIT         0\n",
       "FSDIS            0\n",
       "FSELDER          0\n",
       "FSKID            0\n",
       "STATENAME        0\n",
       "Length: 814, dtype: int64"
      ]
     },
     "execution_count": 18,
     "metadata": {},
     "output_type": "execute_result"
    }
   ],
   "source": [
    "snap17.isnull().sum()"
   ]
  },
  {
   "cell_type": "markdown",
   "id": "dca98224-2f81-4729-84f2-064d2bf241e1",
   "metadata": {},
   "source": [
    "## *Target Variable*"
   ]
  },
  {
   "cell_type": "code",
   "execution_count": 19,
   "id": "623b0143-0821-4363-b6c8-1c4a627f956b",
   "metadata": {
    "tags": []
   },
   "outputs": [
    {
     "data": {
      "text/plain": [
       "CAT_ELIG\n",
       "2.0    25134\n",
       "1.0    22335\n",
       "Name: count, dtype: int64"
      ]
     },
     "execution_count": 19,
     "metadata": {},
     "output_type": "execute_result"
    }
   ],
   "source": [
    "# 2007: 1 = Eligible, 2 = Not eligible\n",
    "snap07['CAT_ELIG'].value_counts()"
   ]
  },
  {
   "cell_type": "code",
   "execution_count": 20,
   "id": "d7e93096-a89b-4bea-9258-d8e52ca780fc",
   "metadata": {
    "tags": []
   },
   "outputs": [
    {
     "data": {
      "text/plain": [
       "CAT_ELIG\n",
       "1    36223\n",
       "0     7012\n",
       "2     2295\n",
       "Name: count, dtype: int64"
      ]
     },
     "execution_count": 20,
     "metadata": {},
     "output_type": "execute_result"
    }
   ],
   "source": [
    "# 2017: 0 = Not eligible, 1 = Reported eligible, 2= Recorded eligible\n",
    "snap17['CAT_ELIG'].value_counts()"
   ]
  },
  {
   "cell_type": "markdown",
   "id": "a1e8c3da-ad2c-493b-9623-4c7fe6a91d11",
   "metadata": {},
   "source": [
    "#### **Observations:** I am going to change the target variable in both datasets to a dictionary of:\n",
    "- 0 = Not Eligible\n",
    "- 1 = Eligible"
   ]
  },
  {
   "cell_type": "code",
   "execution_count": 21,
   "id": "7de3e8bd-48b4-461d-bf96-5215aadd20c9",
   "metadata": {
    "tags": []
   },
   "outputs": [],
   "source": [
    "snap07['CAT_ELIG'] = snap07['CAT_ELIG'].replace(2,0)\n",
    "snap17['CAT_ELIG'] = snap17['CAT_ELIG'].replace(2,1)"
   ]
  },
  {
   "cell_type": "code",
   "execution_count": 22,
   "id": "fda31b24-9ae8-4b5d-a646-6d4fc3858172",
   "metadata": {
    "tags": []
   },
   "outputs": [
    {
     "data": {
      "text/plain": [
       "CAT_ELIG\n",
       "0.0    25134\n",
       "1.0    22335\n",
       "Name: count, dtype: int64"
      ]
     },
     "execution_count": 22,
     "metadata": {},
     "output_type": "execute_result"
    }
   ],
   "source": [
    "snap07['CAT_ELIG'].value_counts()"
   ]
  },
  {
   "cell_type": "code",
   "execution_count": 23,
   "id": "6c2f59ec-fc00-4949-b395-79d0b6afb9e5",
   "metadata": {
    "tags": []
   },
   "outputs": [
    {
     "data": {
      "text/plain": [
       "CAT_ELIG\n",
       "1    38518\n",
       "0     7012\n",
       "Name: count, dtype: int64"
      ]
     },
     "execution_count": 23,
     "metadata": {},
     "output_type": "execute_result"
    }
   ],
   "source": [
    "snap17['CAT_ELIG'].value_counts()"
   ]
  },
  {
   "cell_type": "code",
   "execution_count": 24,
   "id": "135f3a20-e255-45fa-966d-5697f4f0e932",
   "metadata": {
    "tags": []
   },
   "outputs": [
    {
     "name": "stdout",
     "output_type": "stream",
     "text": [
      "2017 dataset: (45530, 814) VS 2007 dataset: (47469, 769)\n"
     ]
    }
   ],
   "source": [
    "print(f'2017 dataset: {snap17.shape} VS 2007 dataset: {snap07.shape}')"
   ]
  },
  {
   "cell_type": "markdown",
   "id": "978f6f18-7300-4a38-a676-5ccde3e26eff",
   "metadata": {},
   "source": [
    "#### **Observations:** Less people nationally applied for SNAP benefits in 2017 as opposed to 2007. This probably had to do with stronger national economic factors such as employment opportunities. Also, 45 columns of features were added to the dataset."
   ]
  },
  {
   "cell_type": "code",
   "execution_count": null,
   "id": "ce3a015b-8b83-4ffa-938e-02bac9820383",
   "metadata": {},
   "outputs": [],
   "source": []
  }
 ],
 "metadata": {
  "kernelspec": {
   "display_name": "Python 3 (ipykernel)",
   "language": "python",
   "name": "python3"
  },
  "language_info": {
   "codemirror_mode": {
    "name": "ipython",
    "version": 3
   },
   "file_extension": ".py",
   "mimetype": "text/x-python",
   "name": "python",
   "nbconvert_exporter": "python",
   "pygments_lexer": "ipython3",
   "version": "3.11.5"
  }
 },
 "nbformat": 4,
 "nbformat_minor": 5
}
