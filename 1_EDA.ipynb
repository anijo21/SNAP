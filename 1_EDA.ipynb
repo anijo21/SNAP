{
 "cells": [
  {
   "cell_type": "code",
   "execution_count": 3,
   "id": "a491be3d-1778-45c4-8a6f-5b047f89b704",
   "metadata": {
    "tags": []
   },
   "outputs": [],
   "source": [
    "import pandas as pd\n",
    "import numpy as np\n",
    "import matplotlib.pyplot as plt\n",
    "import seaborn as sns\n",
    "\n",
    "from sklearn.impute import SimpleImputer\n",
    "\n",
    "import python_code.Scripts as sc\n",
    "import python_code.Reference as ref"
   ]
  },
  {
   "cell_type": "code",
   "execution_count": null,
   "id": "03e37f8d-5a2f-40fe-8655-7a28817a8727",
   "metadata": {},
   "outputs": [],
   "source": []
  }
 ],
 "metadata": {
  "kernelspec": {
   "display_name": "Python 3 (ipykernel)",
   "language": "python",
   "name": "python3"
  },
  "language_info": {
   "codemirror_mode": {
    "name": "ipython",
    "version": 3
   },
   "file_extension": ".py",
   "mimetype": "text/x-python",
   "name": "python",
   "nbconvert_exporter": "python",
   "pygments_lexer": "ipython3",
   "version": "3.11.5"
  }
 },
 "nbformat": 4,
 "nbformat_minor": 5
}
