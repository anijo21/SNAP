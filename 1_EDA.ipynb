{
 "cells": [
  {
   "cell_type": "code",
   "execution_count": 1,
   "id": "a491be3d-1778-45c4-8a6f-5b047f89b704",
   "metadata": {
    "tags": []
   },
   "outputs": [],
   "source": [
    "import pandas as pd\n",
    "import numpy as np\n",
    "import matplotlib.pyplot as plt\n",
    "import seaborn as sns\n",
    "\n",
    "from sklearn.impute import SimpleImputer\n",
    "\n",
    "import python_code.Scripts as sc\n",
    "import python_code.Reference as ref"
   ]
  },
  {
   "cell_type": "code",
   "execution_count": 2,
   "id": "64db276d-565e-4b47-b4f1-0ed7f92b5861",
   "metadata": {
    "tags": []
   },
   "outputs": [],
   "source": [
    "snap07 = pd.read_spss('./data/qc_pub_fy2007.sav')"
   ]
  },
  {
   "cell_type": "code",
   "execution_count": 3,
   "id": "db349d55-96d4-4c79-98f2-3650d28323dd",
   "metadata": {
    "tags": []
   },
   "outputs": [
    {
     "data": {
      "text/html": [
       "<div>\n",
       "<style scoped>\n",
       "    .dataframe tbody tr th:only-of-type {\n",
       "        vertical-align: middle;\n",
       "    }\n",
       "\n",
       "    .dataframe tbody tr th {\n",
       "        vertical-align: top;\n",
       "    }\n",
       "\n",
       "    .dataframe thead th {\n",
       "        text-align: right;\n",
       "    }\n",
       "</style>\n",
       "<table border=\"1\" class=\"dataframe\">\n",
       "  <thead>\n",
       "    <tr style=\"text-align: right;\">\n",
       "      <th></th>\n",
       "      <th>FSAFIL1</th>\n",
       "      <th>FSAFIL2</th>\n",
       "      <th>FSAFIL3</th>\n",
       "      <th>FSAFIL4</th>\n",
       "      <th>FSAFIL5</th>\n",
       "      <th>FSAFIL6</th>\n",
       "      <th>FSAFIL7</th>\n",
       "      <th>FSAFIL8</th>\n",
       "      <th>FSAFIL9</th>\n",
       "      <th>FSAFIL10</th>\n",
       "      <th>...</th>\n",
       "      <th>NDISCA7</th>\n",
       "      <th>NDISCA8</th>\n",
       "      <th>NDISCA9</th>\n",
       "      <th>NDISCA10</th>\n",
       "      <th>NDISCA11</th>\n",
       "      <th>NDISCA12</th>\n",
       "      <th>NDISCA13</th>\n",
       "      <th>NDISCA14</th>\n",
       "      <th>NDISCA15</th>\n",
       "      <th>NDISCA16</th>\n",
       "    </tr>\n",
       "  </thead>\n",
       "  <tbody>\n",
       "    <tr>\n",
       "      <th>0</th>\n",
       "      <td>1.0</td>\n",
       "      <td>1.0</td>\n",
       "      <td>1.0</td>\n",
       "      <td>NaN</td>\n",
       "      <td>NaN</td>\n",
       "      <td>NaN</td>\n",
       "      <td>NaN</td>\n",
       "      <td>NaN</td>\n",
       "      <td>NaN</td>\n",
       "      <td>NaN</td>\n",
       "      <td>...</td>\n",
       "      <td>NaN</td>\n",
       "      <td>NaN</td>\n",
       "      <td>NaN</td>\n",
       "      <td>NaN</td>\n",
       "      <td>NaN</td>\n",
       "      <td>NaN</td>\n",
       "      <td>NaN</td>\n",
       "      <td>NaN</td>\n",
       "      <td>NaN</td>\n",
       "      <td>NaN</td>\n",
       "    </tr>\n",
       "    <tr>\n",
       "      <th>1</th>\n",
       "      <td>1.0</td>\n",
       "      <td>1.0</td>\n",
       "      <td>1.0</td>\n",
       "      <td>1.0</td>\n",
       "      <td>1.0</td>\n",
       "      <td>NaN</td>\n",
       "      <td>NaN</td>\n",
       "      <td>NaN</td>\n",
       "      <td>NaN</td>\n",
       "      <td>NaN</td>\n",
       "      <td>...</td>\n",
       "      <td>NaN</td>\n",
       "      <td>NaN</td>\n",
       "      <td>NaN</td>\n",
       "      <td>NaN</td>\n",
       "      <td>NaN</td>\n",
       "      <td>NaN</td>\n",
       "      <td>NaN</td>\n",
       "      <td>NaN</td>\n",
       "      <td>NaN</td>\n",
       "      <td>NaN</td>\n",
       "    </tr>\n",
       "    <tr>\n",
       "      <th>2</th>\n",
       "      <td>1.0</td>\n",
       "      <td>1.0</td>\n",
       "      <td>NaN</td>\n",
       "      <td>NaN</td>\n",
       "      <td>NaN</td>\n",
       "      <td>NaN</td>\n",
       "      <td>NaN</td>\n",
       "      <td>NaN</td>\n",
       "      <td>NaN</td>\n",
       "      <td>NaN</td>\n",
       "      <td>...</td>\n",
       "      <td>NaN</td>\n",
       "      <td>NaN</td>\n",
       "      <td>NaN</td>\n",
       "      <td>NaN</td>\n",
       "      <td>NaN</td>\n",
       "      <td>NaN</td>\n",
       "      <td>NaN</td>\n",
       "      <td>NaN</td>\n",
       "      <td>NaN</td>\n",
       "      <td>NaN</td>\n",
       "    </tr>\n",
       "    <tr>\n",
       "      <th>3</th>\n",
       "      <td>1.0</td>\n",
       "      <td>NaN</td>\n",
       "      <td>NaN</td>\n",
       "      <td>NaN</td>\n",
       "      <td>NaN</td>\n",
       "      <td>NaN</td>\n",
       "      <td>NaN</td>\n",
       "      <td>NaN</td>\n",
       "      <td>NaN</td>\n",
       "      <td>NaN</td>\n",
       "      <td>...</td>\n",
       "      <td>NaN</td>\n",
       "      <td>NaN</td>\n",
       "      <td>NaN</td>\n",
       "      <td>NaN</td>\n",
       "      <td>NaN</td>\n",
       "      <td>NaN</td>\n",
       "      <td>NaN</td>\n",
       "      <td>NaN</td>\n",
       "      <td>NaN</td>\n",
       "      <td>NaN</td>\n",
       "    </tr>\n",
       "    <tr>\n",
       "      <th>4</th>\n",
       "      <td>1.0</td>\n",
       "      <td>1.0</td>\n",
       "      <td>1.0</td>\n",
       "      <td>1.0</td>\n",
       "      <td>1.0</td>\n",
       "      <td>NaN</td>\n",
       "      <td>NaN</td>\n",
       "      <td>NaN</td>\n",
       "      <td>NaN</td>\n",
       "      <td>NaN</td>\n",
       "      <td>...</td>\n",
       "      <td>NaN</td>\n",
       "      <td>NaN</td>\n",
       "      <td>NaN</td>\n",
       "      <td>NaN</td>\n",
       "      <td>NaN</td>\n",
       "      <td>NaN</td>\n",
       "      <td>NaN</td>\n",
       "      <td>NaN</td>\n",
       "      <td>NaN</td>\n",
       "      <td>NaN</td>\n",
       "    </tr>\n",
       "  </tbody>\n",
       "</table>\n",
       "<p>5 rows × 769 columns</p>\n",
       "</div>"
      ],
      "text/plain": [
       "   FSAFIL1  FSAFIL2  FSAFIL3  FSAFIL4  FSAFIL5  FSAFIL6  FSAFIL7  FSAFIL8  \\\n",
       "0      1.0      1.0      1.0      NaN      NaN      NaN      NaN      NaN   \n",
       "1      1.0      1.0      1.0      1.0      1.0      NaN      NaN      NaN   \n",
       "2      1.0      1.0      NaN      NaN      NaN      NaN      NaN      NaN   \n",
       "3      1.0      NaN      NaN      NaN      NaN      NaN      NaN      NaN   \n",
       "4      1.0      1.0      1.0      1.0      1.0      NaN      NaN      NaN   \n",
       "\n",
       "   FSAFIL9  FSAFIL10  ...  NDISCA7  NDISCA8  NDISCA9  NDISCA10  NDISCA11  \\\n",
       "0      NaN       NaN  ...      NaN      NaN      NaN       NaN       NaN   \n",
       "1      NaN       NaN  ...      NaN      NaN      NaN       NaN       NaN   \n",
       "2      NaN       NaN  ...      NaN      NaN      NaN       NaN       NaN   \n",
       "3      NaN       NaN  ...      NaN      NaN      NaN       NaN       NaN   \n",
       "4      NaN       NaN  ...      NaN      NaN      NaN       NaN       NaN   \n",
       "\n",
       "   NDISCA12  NDISCA13  NDISCA14  NDISCA15  NDISCA16  \n",
       "0       NaN       NaN       NaN       NaN       NaN  \n",
       "1       NaN       NaN       NaN       NaN       NaN  \n",
       "2       NaN       NaN       NaN       NaN       NaN  \n",
       "3       NaN       NaN       NaN       NaN       NaN  \n",
       "4       NaN       NaN       NaN       NaN       NaN  \n",
       "\n",
       "[5 rows x 769 columns]"
      ]
     },
     "execution_count": 3,
     "metadata": {},
     "output_type": "execute_result"
    }
   ],
   "source": [
    "snap07.head(5)"
   ]
  },
  {
   "cell_type": "code",
   "execution_count": 4,
   "id": "ba51bbf3-09b6-4319-ab7d-bb2a170b6544",
   "metadata": {
    "tags": []
   },
   "outputs": [
    {
     "data": {
      "text/plain": [
       "(47469, 769)"
      ]
     },
     "execution_count": 4,
     "metadata": {},
     "output_type": "execute_result"
    }
   ],
   "source": [
    "snap07.shape"
   ]
  },
  {
   "cell_type": "code",
   "execution_count": 5,
   "id": "2fff70a5-249e-416f-9ccf-0825375ff556",
   "metadata": {
    "tags": []
   },
   "outputs": [
    {
     "name": "stdout",
     "output_type": "stream",
     "text": [
      "<class 'pandas.core.frame.DataFrame'>\n",
      "RangeIndex: 47469 entries, 0 to 47468\n",
      "Columns: 769 entries, FSAFIL1 to NDISCA16\n",
      "dtypes: float64(769)\n",
      "memory usage: 278.5 MB\n"
     ]
    }
   ],
   "source": [
    "snap07.info()"
   ]
  },
  {
   "cell_type": "code",
   "execution_count": 6,
   "id": "79ab3b87-b79b-45ae-9063-66515ccc985a",
   "metadata": {
    "tags": []
   },
   "outputs": [
    {
     "data": {
      "text/plain": [
       "FSAFIL1         0\n",
       "FSAFIL2     20739\n",
       "FSAFIL3     29470\n",
       "FSAFIL4     36884\n",
       "FSAFIL5     42301\n",
       "            ...  \n",
       "NDISCA12    47455\n",
       "NDISCA13    47463\n",
       "NDISCA14    47466\n",
       "NDISCA15    47469\n",
       "NDISCA16    47469\n",
       "Length: 769, dtype: int64"
      ]
     },
     "execution_count": 6,
     "metadata": {},
     "output_type": "execute_result"
    }
   ],
   "source": [
    "snap07.isnull().sum()"
   ]
  },
  {
   "cell_type": "markdown",
   "id": "76584e99-d9c8-4674-9160-81a274547908",
   "metadata": {},
   "source": [
    "## *2017 Data*"
   ]
  },
  {
   "cell_type": "code",
   "execution_count": 7,
   "id": "71c1ff1e-1393-4bf9-b28f-34000d5c9d12",
   "metadata": {
    "tags": []
   },
   "outputs": [],
   "source": [
    "snap17 = pd.read_csv('./data/qc_pub_fy2017.csv')"
   ]
  },
  {
   "cell_type": "code",
   "execution_count": 8,
   "id": "cf1d0c57-3f55-4468-b599-60dfa12407d7",
   "metadata": {
    "tags": []
   },
   "outputs": [
    {
     "data": {
      "text/html": [
       "<div>\n",
       "<style scoped>\n",
       "    .dataframe tbody tr th:only-of-type {\n",
       "        vertical-align: middle;\n",
       "    }\n",
       "\n",
       "    .dataframe tbody tr th {\n",
       "        vertical-align: top;\n",
       "    }\n",
       "\n",
       "    .dataframe thead th {\n",
       "        text-align: right;\n",
       "    }\n",
       "</style>\n",
       "<table border=\"1\" class=\"dataframe\">\n",
       "  <thead>\n",
       "    <tr style=\"text-align: right;\">\n",
       "      <th></th>\n",
       "      <th>FSAFIL1</th>\n",
       "      <th>FSAFIL2</th>\n",
       "      <th>FSAFIL3</th>\n",
       "      <th>FSAFIL4</th>\n",
       "      <th>FSAFIL5</th>\n",
       "      <th>FSAFIL6</th>\n",
       "      <th>FSAFIL7</th>\n",
       "      <th>FSAFIL8</th>\n",
       "      <th>FSAFIL9</th>\n",
       "      <th>FSAFIL10</th>\n",
       "      <th>...</th>\n",
       "      <th>WORK12</th>\n",
       "      <th>WORK13</th>\n",
       "      <th>WORK14</th>\n",
       "      <th>WORK15</th>\n",
       "      <th>WORK16</th>\n",
       "      <th>FSNONCIT</th>\n",
       "      <th>FSDIS</th>\n",
       "      <th>FSELDER</th>\n",
       "      <th>FSKID</th>\n",
       "      <th>STATENAME</th>\n",
       "    </tr>\n",
       "  </thead>\n",
       "  <tbody>\n",
       "    <tr>\n",
       "      <th>0</th>\n",
       "      <td>1</td>\n",
       "      <td>NaN</td>\n",
       "      <td>NaN</td>\n",
       "      <td>NaN</td>\n",
       "      <td>NaN</td>\n",
       "      <td>NaN</td>\n",
       "      <td>NaN</td>\n",
       "      <td>NaN</td>\n",
       "      <td>NaN</td>\n",
       "      <td>NaN</td>\n",
       "      <td>...</td>\n",
       "      <td>NaN</td>\n",
       "      <td>NaN</td>\n",
       "      <td>NaN</td>\n",
       "      <td>NaN</td>\n",
       "      <td>NaN</td>\n",
       "      <td>0</td>\n",
       "      <td>1</td>\n",
       "      <td>0</td>\n",
       "      <td>0</td>\n",
       "      <td>Connecticut</td>\n",
       "    </tr>\n",
       "    <tr>\n",
       "      <th>1</th>\n",
       "      <td>1</td>\n",
       "      <td>NaN</td>\n",
       "      <td>NaN</td>\n",
       "      <td>NaN</td>\n",
       "      <td>NaN</td>\n",
       "      <td>NaN</td>\n",
       "      <td>NaN</td>\n",
       "      <td>NaN</td>\n",
       "      <td>NaN</td>\n",
       "      <td>NaN</td>\n",
       "      <td>...</td>\n",
       "      <td>NaN</td>\n",
       "      <td>NaN</td>\n",
       "      <td>NaN</td>\n",
       "      <td>NaN</td>\n",
       "      <td>NaN</td>\n",
       "      <td>0</td>\n",
       "      <td>0</td>\n",
       "      <td>0</td>\n",
       "      <td>0</td>\n",
       "      <td>Connecticut</td>\n",
       "    </tr>\n",
       "    <tr>\n",
       "      <th>2</th>\n",
       "      <td>1</td>\n",
       "      <td>NaN</td>\n",
       "      <td>NaN</td>\n",
       "      <td>NaN</td>\n",
       "      <td>NaN</td>\n",
       "      <td>NaN</td>\n",
       "      <td>NaN</td>\n",
       "      <td>NaN</td>\n",
       "      <td>NaN</td>\n",
       "      <td>NaN</td>\n",
       "      <td>...</td>\n",
       "      <td>NaN</td>\n",
       "      <td>NaN</td>\n",
       "      <td>NaN</td>\n",
       "      <td>NaN</td>\n",
       "      <td>NaN</td>\n",
       "      <td>0</td>\n",
       "      <td>0</td>\n",
       "      <td>0</td>\n",
       "      <td>0</td>\n",
       "      <td>Connecticut</td>\n",
       "    </tr>\n",
       "    <tr>\n",
       "      <th>3</th>\n",
       "      <td>1</td>\n",
       "      <td>NaN</td>\n",
       "      <td>NaN</td>\n",
       "      <td>NaN</td>\n",
       "      <td>NaN</td>\n",
       "      <td>NaN</td>\n",
       "      <td>NaN</td>\n",
       "      <td>NaN</td>\n",
       "      <td>NaN</td>\n",
       "      <td>NaN</td>\n",
       "      <td>...</td>\n",
       "      <td>NaN</td>\n",
       "      <td>NaN</td>\n",
       "      <td>NaN</td>\n",
       "      <td>NaN</td>\n",
       "      <td>NaN</td>\n",
       "      <td>0</td>\n",
       "      <td>1</td>\n",
       "      <td>0</td>\n",
       "      <td>0</td>\n",
       "      <td>Connecticut</td>\n",
       "    </tr>\n",
       "    <tr>\n",
       "      <th>4</th>\n",
       "      <td>1</td>\n",
       "      <td>1.0</td>\n",
       "      <td>NaN</td>\n",
       "      <td>NaN</td>\n",
       "      <td>NaN</td>\n",
       "      <td>NaN</td>\n",
       "      <td>NaN</td>\n",
       "      <td>NaN</td>\n",
       "      <td>NaN</td>\n",
       "      <td>NaN</td>\n",
       "      <td>...</td>\n",
       "      <td>NaN</td>\n",
       "      <td>NaN</td>\n",
       "      <td>NaN</td>\n",
       "      <td>NaN</td>\n",
       "      <td>NaN</td>\n",
       "      <td>0</td>\n",
       "      <td>0</td>\n",
       "      <td>1</td>\n",
       "      <td>0</td>\n",
       "      <td>Connecticut</td>\n",
       "    </tr>\n",
       "  </tbody>\n",
       "</table>\n",
       "<p>5 rows × 814 columns</p>\n",
       "</div>"
      ],
      "text/plain": [
       "   FSAFIL1  FSAFIL2  FSAFIL3  FSAFIL4  FSAFIL5  FSAFIL6  FSAFIL7  FSAFIL8  \\\n",
       "0        1      NaN      NaN      NaN      NaN      NaN      NaN      NaN   \n",
       "1        1      NaN      NaN      NaN      NaN      NaN      NaN      NaN   \n",
       "2        1      NaN      NaN      NaN      NaN      NaN      NaN      NaN   \n",
       "3        1      NaN      NaN      NaN      NaN      NaN      NaN      NaN   \n",
       "4        1      1.0      NaN      NaN      NaN      NaN      NaN      NaN   \n",
       "\n",
       "   FSAFIL9  FSAFIL10  ...  WORK12  WORK13  WORK14  WORK15  WORK16  FSNONCIT  \\\n",
       "0      NaN       NaN  ...     NaN     NaN     NaN     NaN     NaN         0   \n",
       "1      NaN       NaN  ...     NaN     NaN     NaN     NaN     NaN         0   \n",
       "2      NaN       NaN  ...     NaN     NaN     NaN     NaN     NaN         0   \n",
       "3      NaN       NaN  ...     NaN     NaN     NaN     NaN     NaN         0   \n",
       "4      NaN       NaN  ...     NaN     NaN     NaN     NaN     NaN         0   \n",
       "\n",
       "   FSDIS  FSELDER  FSKID    STATENAME  \n",
       "0      1        0      0  Connecticut  \n",
       "1      0        0      0  Connecticut  \n",
       "2      0        0      0  Connecticut  \n",
       "3      1        0      0  Connecticut  \n",
       "4      0        1      0  Connecticut  \n",
       "\n",
       "[5 rows x 814 columns]"
      ]
     },
     "execution_count": 8,
     "metadata": {},
     "output_type": "execute_result"
    }
   ],
   "source": [
    "snap17.head(5)"
   ]
  },
  {
   "cell_type": "code",
   "execution_count": 9,
   "id": "3ebf4d3f-c302-4678-a78d-afe7a7b3a267",
   "metadata": {
    "tags": []
   },
   "outputs": [
    {
     "name": "stdout",
     "output_type": "stream",
     "text": [
      "<class 'pandas.core.frame.DataFrame'>\n",
      "RangeIndex: 45530 entries, 0 to 45529\n",
      "Columns: 814 entries, FSAFIL1 to STATENAME\n",
      "dtypes: float64(368), int64(445), object(1)\n",
      "memory usage: 282.8+ MB\n"
     ]
    }
   ],
   "source": [
    "snap17.info()"
   ]
  },
  {
   "cell_type": "code",
   "execution_count": 10,
   "id": "a79ec408-64eb-4a68-9a40-48fd887acdeb",
   "metadata": {
    "tags": []
   },
   "outputs": [
    {
     "data": {
      "text/plain": [
       "FSAFIL1          0\n",
       "FSAFIL2      22368\n",
       "FSAFIL3      30458\n",
       "FSAFIL4      36350\n",
       "FSAFIL5      40801\n",
       "             ...  \n",
       "FSNONCIT         0\n",
       "FSDIS            0\n",
       "FSELDER          0\n",
       "FSKID            0\n",
       "STATENAME        0\n",
       "Length: 814, dtype: int64"
      ]
     },
     "execution_count": 10,
     "metadata": {},
     "output_type": "execute_result"
    }
   ],
   "source": [
    "snap17.isnull().sum()"
   ]
  },
  {
   "cell_type": "markdown",
   "id": "dca98224-2f81-4729-84f2-064d2bf241e1",
   "metadata": {},
   "source": [
    "## *Target Variable* (what we will be predicting = Y variable)"
   ]
  },
  {
   "cell_type": "code",
   "execution_count": 11,
   "id": "623b0143-0821-4363-b6c8-1c4a627f956b",
   "metadata": {
    "tags": []
   },
   "outputs": [
    {
     "data": {
      "text/plain": [
       "CAT_ELIG\n",
       "2.0    25134\n",
       "1.0    22335\n",
       "Name: count, dtype: int64"
      ]
     },
     "execution_count": 11,
     "metadata": {},
     "output_type": "execute_result"
    }
   ],
   "source": [
    "# 2007: 1 = Eligible, 2 = Not eligible\n",
    "snap07['CAT_ELIG'].value_counts()"
   ]
  },
  {
   "cell_type": "code",
   "execution_count": 12,
   "id": "d7e93096-a89b-4bea-9258-d8e52ca780fc",
   "metadata": {
    "tags": []
   },
   "outputs": [
    {
     "data": {
      "text/plain": [
       "CAT_ELIG\n",
       "1    36223\n",
       "0     7012\n",
       "2     2295\n",
       "Name: count, dtype: int64"
      ]
     },
     "execution_count": 12,
     "metadata": {},
     "output_type": "execute_result"
    }
   ],
   "source": [
    "# 2017: 0 = Not eligible, 1 = Reported eligible, 2= Recorded eligible\n",
    "snap17['CAT_ELIG'].value_counts()"
   ]
  },
  {
   "cell_type": "markdown",
   "id": "a1e8c3da-ad2c-493b-9623-4c7fe6a91d11",
   "metadata": {},
   "source": [
    "#### **Observations:** I am going to change the target variable in both datasets to a dictionary of:\n",
    "- 0 = Not Eligible\n",
    "- 1 = Eligible"
   ]
  },
  {
   "cell_type": "code",
   "execution_count": 13,
   "id": "7de3e8bd-48b4-461d-bf96-5215aadd20c9",
   "metadata": {
    "tags": []
   },
   "outputs": [],
   "source": [
    "snap07['CAT_ELIG'] = snap07['CAT_ELIG'].replace(2,0)\n",
    "snap17['CAT_ELIG'] = snap17['CAT_ELIG'].replace(2,1)"
   ]
  },
  {
   "cell_type": "code",
   "execution_count": 14,
   "id": "fda31b24-9ae8-4b5d-a646-6d4fc3858172",
   "metadata": {
    "tags": []
   },
   "outputs": [
    {
     "data": {
      "text/plain": [
       "CAT_ELIG\n",
       "0.0    25134\n",
       "1.0    22335\n",
       "Name: count, dtype: int64"
      ]
     },
     "execution_count": 14,
     "metadata": {},
     "output_type": "execute_result"
    }
   ],
   "source": [
    "snap07['CAT_ELIG'].value_counts()"
   ]
  },
  {
   "cell_type": "code",
   "execution_count": 15,
   "id": "6c2f59ec-fc00-4949-b395-79d0b6afb9e5",
   "metadata": {
    "tags": []
   },
   "outputs": [
    {
     "data": {
      "text/plain": [
       "CAT_ELIG\n",
       "1    38518\n",
       "0     7012\n",
       "Name: count, dtype: int64"
      ]
     },
     "execution_count": 15,
     "metadata": {},
     "output_type": "execute_result"
    }
   ],
   "source": [
    "snap17['CAT_ELIG'].value_counts()"
   ]
  },
  {
   "cell_type": "code",
   "execution_count": 16,
   "id": "135f3a20-e255-45fa-966d-5697f4f0e932",
   "metadata": {
    "tags": []
   },
   "outputs": [
    {
     "name": "stdout",
     "output_type": "stream",
     "text": [
      "2017 dataset: (45530, 814) VS 2007 dataset: (47469, 769)\n"
     ]
    }
   ],
   "source": [
    "print(f'2017 dataset: {snap17.shape} VS 2007 dataset: {snap07.shape}')"
   ]
  },
  {
   "cell_type": "markdown",
   "id": "978f6f18-7300-4a38-a676-5ccde3e26eff",
   "metadata": {},
   "source": [
    "#### **Observations:** Less people nationally applied for SNAP benefits in 2017 as opposed to 2007. This probably had to do with stronger national economic factors such as employment opportunities. Also, 45 columns of features were added to the dataset."
   ]
  },
  {
   "cell_type": "markdown",
   "id": "8ff73f85-ecb0-4272-af5c-8648080275ad",
   "metadata": {},
   "source": [
    "## *Reference Tables*"
   ]
  },
  {
   "cell_type": "code",
   "execution_count": 17,
   "id": "1a399862-4e3c-4897-850a-ead7d34fae70",
   "metadata": {
    "tags": []
   },
   "outputs": [
    {
     "name": "stdout",
     "output_type": "stream",
     "text": [
      "Unit Demo, 2007 is 22 and 2017 is 31\n",
      "Unit Assets, 2007 is 7 and 2017 is 11\n",
      "Unit ExDed, 2007 is 27 and 2017 is 27\n",
      "Unit Inc, 2007 is 26 and 2017 is 27\n",
      "Pers Char, 2007 is 14 and 2017 is 17\n",
      "Pers Inc, 2007 is 20 and 2017 is 21\n"
     ]
    }
   ],
   "source": [
    "import python_code.Reference as ref\n",
    "print(f'Unit Demo, 2007 is {ref.unit07_demo.shape[0]} and 2017 is {ref.unit17_demo.shape[0]}')\n",
    "print(f'Unit Assets, 2007 is {ref.unit07_assets.shape[0]} and 2017 is {ref.unit17_assets.shape[0]}')\n",
    "print(f'Unit ExDed, 2007 is {ref.unit07_exded.shape[0]} and 2017 is {ref.unit17_exded.shape[0]}')\n",
    "print(f'Unit Inc, 2007 is {ref.unit07_inc.shape[0]} and 2017 is {ref.unit17_inc.shape[0]}')\n",
    "print(f'Pers Char, 2007 is {ref.per07_char.shape[0]} and 2017 is {ref.per17_char.shape[0]}')\n",
    "print(f'Pers Inc, 2007 is {ref.per07_inc.shape[0]} and 2017 is {ref.per17_inc.shape[0]}')"
   ]
  },
  {
   "cell_type": "markdown",
   "id": "73de7fcc-8ce3-4607-971c-86c28e030b5d",
   "metadata": {},
   "source": [
    "#### **Observations:** From 2007 to 2017, every category obtained more columns except for Expenses and Deductables."
   ]
  },
  {
   "cell_type": "markdown",
   "id": "32cd0e62-960a-4860-b4b8-b0616ab757c3",
   "metadata": {},
   "source": [
    "# Extracting State Data"
   ]
  },
  {
   "cell_type": "markdown",
   "id": "4c52c1b2-4d54-44a3-8a70-8984f0cfadaf",
   "metadata": {},
   "source": [
    "## *New Mexico*"
   ]
  },
  {
   "cell_type": "code",
   "execution_count": 18,
   "id": "e386a244-99ff-4bbe-bf83-c4b9969d2b16",
   "metadata": {
    "tags": []
   },
   "outputs": [],
   "source": [
    "#save New Mexico records\n",
    "#import pandas as pd\n",
    "#snap07 = pd.read_spss('./data/qc_pub_fy2007.sav')\n",
    "nm07 = snap07.loc[snap07['STATE'] == 35].astype('float64')\n",
    "nm07_target = nm07['CAT_ELIG']\n",
    "nm07.to_csv('./data/nm07.csv',index=None)"
   ]
  },
  {
   "cell_type": "code",
   "execution_count": 19,
   "id": "462c0dc1-0b18-432a-a1a2-8118280fea8b",
   "metadata": {
    "tags": []
   },
   "outputs": [],
   "source": [
    "#snap17 = pd.read_csv('./data/qc_pub_fy2017.csv')\n",
    "nm17 = snap17.loc[snap17['STATE'] == 35]\n",
    "nm17_target = nm17['CAT_ELIG']\n",
    "nm17 = nm17.drop(columns = ['STATENAME'])\n",
    "nm17 = nm17.astype('float64')\n",
    "nm17.to_csv('./data/nm17.csv',index=None)"
   ]
  },
  {
   "cell_type": "code",
   "execution_count": 20,
   "id": "c67e0fd6-aa6f-4f14-b041-a2302b3ad670",
   "metadata": {
    "tags": []
   },
   "outputs": [
    {
     "data": {
      "text/html": [
       "<div>\n",
       "<style scoped>\n",
       "    .dataframe tbody tr th:only-of-type {\n",
       "        vertical-align: middle;\n",
       "    }\n",
       "\n",
       "    .dataframe tbody tr th {\n",
       "        vertical-align: top;\n",
       "    }\n",
       "\n",
       "    .dataframe thead th {\n",
       "        text-align: right;\n",
       "    }\n",
       "</style>\n",
       "<table border=\"1\" class=\"dataframe\">\n",
       "  <thead>\n",
       "    <tr style=\"text-align: right;\">\n",
       "      <th></th>\n",
       "      <th>FSAFIL1</th>\n",
       "      <th>FSAFIL2</th>\n",
       "      <th>FSAFIL3</th>\n",
       "      <th>FSAFIL4</th>\n",
       "      <th>FSAFIL5</th>\n",
       "      <th>FSAFIL6</th>\n",
       "      <th>FSAFIL7</th>\n",
       "      <th>FSAFIL8</th>\n",
       "      <th>FSAFIL9</th>\n",
       "      <th>FSAFIL10</th>\n",
       "      <th>...</th>\n",
       "      <th>NDISCA7</th>\n",
       "      <th>NDISCA8</th>\n",
       "      <th>NDISCA9</th>\n",
       "      <th>NDISCA10</th>\n",
       "      <th>NDISCA11</th>\n",
       "      <th>NDISCA12</th>\n",
       "      <th>NDISCA13</th>\n",
       "      <th>NDISCA14</th>\n",
       "      <th>NDISCA15</th>\n",
       "      <th>NDISCA16</th>\n",
       "    </tr>\n",
       "  </thead>\n",
       "  <tbody>\n",
       "    <tr>\n",
       "      <th>0</th>\n",
       "      <td>1.0</td>\n",
       "      <td>1.0</td>\n",
       "      <td>1.0</td>\n",
       "      <td>NaN</td>\n",
       "      <td>NaN</td>\n",
       "      <td>NaN</td>\n",
       "      <td>NaN</td>\n",
       "      <td>NaN</td>\n",
       "      <td>NaN</td>\n",
       "      <td>NaN</td>\n",
       "      <td>...</td>\n",
       "      <td>NaN</td>\n",
       "      <td>NaN</td>\n",
       "      <td>NaN</td>\n",
       "      <td>NaN</td>\n",
       "      <td>NaN</td>\n",
       "      <td>NaN</td>\n",
       "      <td>NaN</td>\n",
       "      <td>NaN</td>\n",
       "      <td>NaN</td>\n",
       "      <td>NaN</td>\n",
       "    </tr>\n",
       "    <tr>\n",
       "      <th>1</th>\n",
       "      <td>1.0</td>\n",
       "      <td>1.0</td>\n",
       "      <td>1.0</td>\n",
       "      <td>1.0</td>\n",
       "      <td>1.0</td>\n",
       "      <td>1.0</td>\n",
       "      <td>NaN</td>\n",
       "      <td>NaN</td>\n",
       "      <td>NaN</td>\n",
       "      <td>NaN</td>\n",
       "      <td>...</td>\n",
       "      <td>NaN</td>\n",
       "      <td>NaN</td>\n",
       "      <td>NaN</td>\n",
       "      <td>NaN</td>\n",
       "      <td>NaN</td>\n",
       "      <td>NaN</td>\n",
       "      <td>NaN</td>\n",
       "      <td>NaN</td>\n",
       "      <td>NaN</td>\n",
       "      <td>NaN</td>\n",
       "    </tr>\n",
       "    <tr>\n",
       "      <th>2</th>\n",
       "      <td>1.0</td>\n",
       "      <td>1.0</td>\n",
       "      <td>1.0</td>\n",
       "      <td>NaN</td>\n",
       "      <td>NaN</td>\n",
       "      <td>NaN</td>\n",
       "      <td>NaN</td>\n",
       "      <td>NaN</td>\n",
       "      <td>NaN</td>\n",
       "      <td>NaN</td>\n",
       "      <td>...</td>\n",
       "      <td>NaN</td>\n",
       "      <td>NaN</td>\n",
       "      <td>NaN</td>\n",
       "      <td>NaN</td>\n",
       "      <td>NaN</td>\n",
       "      <td>NaN</td>\n",
       "      <td>NaN</td>\n",
       "      <td>NaN</td>\n",
       "      <td>NaN</td>\n",
       "      <td>NaN</td>\n",
       "    </tr>\n",
       "    <tr>\n",
       "      <th>3</th>\n",
       "      <td>1.0</td>\n",
       "      <td>1.0</td>\n",
       "      <td>1.0</td>\n",
       "      <td>1.0</td>\n",
       "      <td>NaN</td>\n",
       "      <td>NaN</td>\n",
       "      <td>NaN</td>\n",
       "      <td>NaN</td>\n",
       "      <td>NaN</td>\n",
       "      <td>NaN</td>\n",
       "      <td>...</td>\n",
       "      <td>NaN</td>\n",
       "      <td>NaN</td>\n",
       "      <td>NaN</td>\n",
       "      <td>NaN</td>\n",
       "      <td>NaN</td>\n",
       "      <td>NaN</td>\n",
       "      <td>NaN</td>\n",
       "      <td>NaN</td>\n",
       "      <td>NaN</td>\n",
       "      <td>NaN</td>\n",
       "    </tr>\n",
       "    <tr>\n",
       "      <th>4</th>\n",
       "      <td>1.0</td>\n",
       "      <td>NaN</td>\n",
       "      <td>NaN</td>\n",
       "      <td>NaN</td>\n",
       "      <td>NaN</td>\n",
       "      <td>NaN</td>\n",
       "      <td>NaN</td>\n",
       "      <td>NaN</td>\n",
       "      <td>NaN</td>\n",
       "      <td>NaN</td>\n",
       "      <td>...</td>\n",
       "      <td>NaN</td>\n",
       "      <td>NaN</td>\n",
       "      <td>NaN</td>\n",
       "      <td>NaN</td>\n",
       "      <td>NaN</td>\n",
       "      <td>NaN</td>\n",
       "      <td>NaN</td>\n",
       "      <td>NaN</td>\n",
       "      <td>NaN</td>\n",
       "      <td>NaN</td>\n",
       "    </tr>\n",
       "    <tr>\n",
       "      <th>...</th>\n",
       "      <td>...</td>\n",
       "      <td>...</td>\n",
       "      <td>...</td>\n",
       "      <td>...</td>\n",
       "      <td>...</td>\n",
       "      <td>...</td>\n",
       "      <td>...</td>\n",
       "      <td>...</td>\n",
       "      <td>...</td>\n",
       "      <td>...</td>\n",
       "      <td>...</td>\n",
       "      <td>...</td>\n",
       "      <td>...</td>\n",
       "      <td>...</td>\n",
       "      <td>...</td>\n",
       "      <td>...</td>\n",
       "      <td>...</td>\n",
       "      <td>...</td>\n",
       "      <td>...</td>\n",
       "      <td>...</td>\n",
       "      <td>...</td>\n",
       "    </tr>\n",
       "    <tr>\n",
       "      <th>1250</th>\n",
       "      <td>1.0</td>\n",
       "      <td>NaN</td>\n",
       "      <td>NaN</td>\n",
       "      <td>NaN</td>\n",
       "      <td>NaN</td>\n",
       "      <td>NaN</td>\n",
       "      <td>NaN</td>\n",
       "      <td>NaN</td>\n",
       "      <td>NaN</td>\n",
       "      <td>NaN</td>\n",
       "      <td>...</td>\n",
       "      <td>NaN</td>\n",
       "      <td>NaN</td>\n",
       "      <td>NaN</td>\n",
       "      <td>NaN</td>\n",
       "      <td>NaN</td>\n",
       "      <td>NaN</td>\n",
       "      <td>NaN</td>\n",
       "      <td>NaN</td>\n",
       "      <td>NaN</td>\n",
       "      <td>NaN</td>\n",
       "    </tr>\n",
       "    <tr>\n",
       "      <th>1251</th>\n",
       "      <td>1.0</td>\n",
       "      <td>1.0</td>\n",
       "      <td>NaN</td>\n",
       "      <td>NaN</td>\n",
       "      <td>NaN</td>\n",
       "      <td>NaN</td>\n",
       "      <td>NaN</td>\n",
       "      <td>NaN</td>\n",
       "      <td>NaN</td>\n",
       "      <td>NaN</td>\n",
       "      <td>...</td>\n",
       "      <td>NaN</td>\n",
       "      <td>NaN</td>\n",
       "      <td>NaN</td>\n",
       "      <td>NaN</td>\n",
       "      <td>NaN</td>\n",
       "      <td>NaN</td>\n",
       "      <td>NaN</td>\n",
       "      <td>NaN</td>\n",
       "      <td>NaN</td>\n",
       "      <td>NaN</td>\n",
       "    </tr>\n",
       "    <tr>\n",
       "      <th>1252</th>\n",
       "      <td>1.0</td>\n",
       "      <td>1.0</td>\n",
       "      <td>NaN</td>\n",
       "      <td>NaN</td>\n",
       "      <td>NaN</td>\n",
       "      <td>NaN</td>\n",
       "      <td>NaN</td>\n",
       "      <td>NaN</td>\n",
       "      <td>NaN</td>\n",
       "      <td>NaN</td>\n",
       "      <td>...</td>\n",
       "      <td>NaN</td>\n",
       "      <td>NaN</td>\n",
       "      <td>NaN</td>\n",
       "      <td>NaN</td>\n",
       "      <td>NaN</td>\n",
       "      <td>NaN</td>\n",
       "      <td>NaN</td>\n",
       "      <td>NaN</td>\n",
       "      <td>NaN</td>\n",
       "      <td>NaN</td>\n",
       "    </tr>\n",
       "    <tr>\n",
       "      <th>1253</th>\n",
       "      <td>1.0</td>\n",
       "      <td>NaN</td>\n",
       "      <td>NaN</td>\n",
       "      <td>NaN</td>\n",
       "      <td>NaN</td>\n",
       "      <td>NaN</td>\n",
       "      <td>NaN</td>\n",
       "      <td>NaN</td>\n",
       "      <td>NaN</td>\n",
       "      <td>NaN</td>\n",
       "      <td>...</td>\n",
       "      <td>NaN</td>\n",
       "      <td>NaN</td>\n",
       "      <td>NaN</td>\n",
       "      <td>NaN</td>\n",
       "      <td>NaN</td>\n",
       "      <td>NaN</td>\n",
       "      <td>NaN</td>\n",
       "      <td>NaN</td>\n",
       "      <td>NaN</td>\n",
       "      <td>NaN</td>\n",
       "    </tr>\n",
       "    <tr>\n",
       "      <th>1254</th>\n",
       "      <td>1.0</td>\n",
       "      <td>1.0</td>\n",
       "      <td>1.0</td>\n",
       "      <td>1.0</td>\n",
       "      <td>1.0</td>\n",
       "      <td>1.0</td>\n",
       "      <td>1.0</td>\n",
       "      <td>1.0</td>\n",
       "      <td>1.0</td>\n",
       "      <td>NaN</td>\n",
       "      <td>...</td>\n",
       "      <td>0.0</td>\n",
       "      <td>0.0</td>\n",
       "      <td>0.0</td>\n",
       "      <td>NaN</td>\n",
       "      <td>NaN</td>\n",
       "      <td>NaN</td>\n",
       "      <td>NaN</td>\n",
       "      <td>NaN</td>\n",
       "      <td>NaN</td>\n",
       "      <td>NaN</td>\n",
       "    </tr>\n",
       "  </tbody>\n",
       "</table>\n",
       "<p>1255 rows × 769 columns</p>\n",
       "</div>"
      ],
      "text/plain": [
       "      FSAFIL1  FSAFIL2  FSAFIL3  FSAFIL4  FSAFIL5  FSAFIL6  FSAFIL7  FSAFIL8  \\\n",
       "0         1.0      1.0      1.0      NaN      NaN      NaN      NaN      NaN   \n",
       "1         1.0      1.0      1.0      1.0      1.0      1.0      NaN      NaN   \n",
       "2         1.0      1.0      1.0      NaN      NaN      NaN      NaN      NaN   \n",
       "3         1.0      1.0      1.0      1.0      NaN      NaN      NaN      NaN   \n",
       "4         1.0      NaN      NaN      NaN      NaN      NaN      NaN      NaN   \n",
       "...       ...      ...      ...      ...      ...      ...      ...      ...   \n",
       "1250      1.0      NaN      NaN      NaN      NaN      NaN      NaN      NaN   \n",
       "1251      1.0      1.0      NaN      NaN      NaN      NaN      NaN      NaN   \n",
       "1252      1.0      1.0      NaN      NaN      NaN      NaN      NaN      NaN   \n",
       "1253      1.0      NaN      NaN      NaN      NaN      NaN      NaN      NaN   \n",
       "1254      1.0      1.0      1.0      1.0      1.0      1.0      1.0      1.0   \n",
       "\n",
       "      FSAFIL9  FSAFIL10  ...  NDISCA7  NDISCA8  NDISCA9  NDISCA10  NDISCA11  \\\n",
       "0         NaN       NaN  ...      NaN      NaN      NaN       NaN       NaN   \n",
       "1         NaN       NaN  ...      NaN      NaN      NaN       NaN       NaN   \n",
       "2         NaN       NaN  ...      NaN      NaN      NaN       NaN       NaN   \n",
       "3         NaN       NaN  ...      NaN      NaN      NaN       NaN       NaN   \n",
       "4         NaN       NaN  ...      NaN      NaN      NaN       NaN       NaN   \n",
       "...       ...       ...  ...      ...      ...      ...       ...       ...   \n",
       "1250      NaN       NaN  ...      NaN      NaN      NaN       NaN       NaN   \n",
       "1251      NaN       NaN  ...      NaN      NaN      NaN       NaN       NaN   \n",
       "1252      NaN       NaN  ...      NaN      NaN      NaN       NaN       NaN   \n",
       "1253      NaN       NaN  ...      NaN      NaN      NaN       NaN       NaN   \n",
       "1254      1.0       NaN  ...      0.0      0.0      0.0       NaN       NaN   \n",
       "\n",
       "      NDISCA12  NDISCA13  NDISCA14  NDISCA15  NDISCA16  \n",
       "0          NaN       NaN       NaN       NaN       NaN  \n",
       "1          NaN       NaN       NaN       NaN       NaN  \n",
       "2          NaN       NaN       NaN       NaN       NaN  \n",
       "3          NaN       NaN       NaN       NaN       NaN  \n",
       "4          NaN       NaN       NaN       NaN       NaN  \n",
       "...        ...       ...       ...       ...       ...  \n",
       "1250       NaN       NaN       NaN       NaN       NaN  \n",
       "1251       NaN       NaN       NaN       NaN       NaN  \n",
       "1252       NaN       NaN       NaN       NaN       NaN  \n",
       "1253       NaN       NaN       NaN       NaN       NaN  \n",
       "1254       NaN       NaN       NaN       NaN       NaN  \n",
       "\n",
       "[1255 rows x 769 columns]"
      ]
     },
     "execution_count": 20,
     "metadata": {},
     "output_type": "execute_result"
    }
   ],
   "source": [
    "#New Mexico dataframe\n",
    "df_nm07 = pd.read_csv('./data/nm07.csv')\n",
    "df_nm07"
   ]
  },
  {
   "cell_type": "code",
   "execution_count": 21,
   "id": "e1b687a3-eda1-44d1-8f01-052321a12421",
   "metadata": {
    "tags": []
   },
   "outputs": [
    {
     "data": {
      "text/html": [
       "<div>\n",
       "<style scoped>\n",
       "    .dataframe tbody tr th:only-of-type {\n",
       "        vertical-align: middle;\n",
       "    }\n",
       "\n",
       "    .dataframe tbody tr th {\n",
       "        vertical-align: top;\n",
       "    }\n",
       "\n",
       "    .dataframe thead th {\n",
       "        text-align: right;\n",
       "    }\n",
       "</style>\n",
       "<table border=\"1\" class=\"dataframe\">\n",
       "  <thead>\n",
       "    <tr style=\"text-align: right;\">\n",
       "      <th></th>\n",
       "      <th>FSAFIL1</th>\n",
       "      <th>FSAFIL2</th>\n",
       "      <th>FSAFIL3</th>\n",
       "      <th>FSAFIL4</th>\n",
       "      <th>FSAFIL5</th>\n",
       "      <th>FSAFIL6</th>\n",
       "      <th>FSAFIL7</th>\n",
       "      <th>FSAFIL8</th>\n",
       "      <th>FSAFIL9</th>\n",
       "      <th>FSAFIL10</th>\n",
       "      <th>...</th>\n",
       "      <th>WORK11</th>\n",
       "      <th>WORK12</th>\n",
       "      <th>WORK13</th>\n",
       "      <th>WORK14</th>\n",
       "      <th>WORK15</th>\n",
       "      <th>WORK16</th>\n",
       "      <th>FSNONCIT</th>\n",
       "      <th>FSDIS</th>\n",
       "      <th>FSELDER</th>\n",
       "      <th>FSKID</th>\n",
       "    </tr>\n",
       "  </thead>\n",
       "  <tbody>\n",
       "    <tr>\n",
       "      <th>0</th>\n",
       "      <td>1.0</td>\n",
       "      <td>NaN</td>\n",
       "      <td>NaN</td>\n",
       "      <td>NaN</td>\n",
       "      <td>NaN</td>\n",
       "      <td>NaN</td>\n",
       "      <td>NaN</td>\n",
       "      <td>NaN</td>\n",
       "      <td>NaN</td>\n",
       "      <td>NaN</td>\n",
       "      <td>...</td>\n",
       "      <td>NaN</td>\n",
       "      <td>NaN</td>\n",
       "      <td>NaN</td>\n",
       "      <td>NaN</td>\n",
       "      <td>NaN</td>\n",
       "      <td>NaN</td>\n",
       "      <td>0.0</td>\n",
       "      <td>0.0</td>\n",
       "      <td>0.0</td>\n",
       "      <td>0.0</td>\n",
       "    </tr>\n",
       "    <tr>\n",
       "      <th>1</th>\n",
       "      <td>1.0</td>\n",
       "      <td>1.0</td>\n",
       "      <td>NaN</td>\n",
       "      <td>NaN</td>\n",
       "      <td>NaN</td>\n",
       "      <td>NaN</td>\n",
       "      <td>NaN</td>\n",
       "      <td>NaN</td>\n",
       "      <td>NaN</td>\n",
       "      <td>NaN</td>\n",
       "      <td>...</td>\n",
       "      <td>NaN</td>\n",
       "      <td>NaN</td>\n",
       "      <td>NaN</td>\n",
       "      <td>NaN</td>\n",
       "      <td>NaN</td>\n",
       "      <td>NaN</td>\n",
       "      <td>0.0</td>\n",
       "      <td>0.0</td>\n",
       "      <td>1.0</td>\n",
       "      <td>1.0</td>\n",
       "    </tr>\n",
       "    <tr>\n",
       "      <th>2</th>\n",
       "      <td>1.0</td>\n",
       "      <td>1.0</td>\n",
       "      <td>NaN</td>\n",
       "      <td>NaN</td>\n",
       "      <td>NaN</td>\n",
       "      <td>NaN</td>\n",
       "      <td>NaN</td>\n",
       "      <td>NaN</td>\n",
       "      <td>NaN</td>\n",
       "      <td>NaN</td>\n",
       "      <td>...</td>\n",
       "      <td>NaN</td>\n",
       "      <td>NaN</td>\n",
       "      <td>NaN</td>\n",
       "      <td>NaN</td>\n",
       "      <td>NaN</td>\n",
       "      <td>NaN</td>\n",
       "      <td>0.0</td>\n",
       "      <td>0.0</td>\n",
       "      <td>0.0</td>\n",
       "      <td>1.0</td>\n",
       "    </tr>\n",
       "    <tr>\n",
       "      <th>3</th>\n",
       "      <td>1.0</td>\n",
       "      <td>NaN</td>\n",
       "      <td>NaN</td>\n",
       "      <td>NaN</td>\n",
       "      <td>NaN</td>\n",
       "      <td>NaN</td>\n",
       "      <td>NaN</td>\n",
       "      <td>NaN</td>\n",
       "      <td>NaN</td>\n",
       "      <td>NaN</td>\n",
       "      <td>...</td>\n",
       "      <td>NaN</td>\n",
       "      <td>NaN</td>\n",
       "      <td>NaN</td>\n",
       "      <td>NaN</td>\n",
       "      <td>NaN</td>\n",
       "      <td>NaN</td>\n",
       "      <td>0.0</td>\n",
       "      <td>0.0</td>\n",
       "      <td>0.0</td>\n",
       "      <td>0.0</td>\n",
       "    </tr>\n",
       "    <tr>\n",
       "      <th>4</th>\n",
       "      <td>1.0</td>\n",
       "      <td>1.0</td>\n",
       "      <td>NaN</td>\n",
       "      <td>NaN</td>\n",
       "      <td>NaN</td>\n",
       "      <td>NaN</td>\n",
       "      <td>NaN</td>\n",
       "      <td>NaN</td>\n",
       "      <td>NaN</td>\n",
       "      <td>NaN</td>\n",
       "      <td>...</td>\n",
       "      <td>NaN</td>\n",
       "      <td>NaN</td>\n",
       "      <td>NaN</td>\n",
       "      <td>NaN</td>\n",
       "      <td>NaN</td>\n",
       "      <td>NaN</td>\n",
       "      <td>0.0</td>\n",
       "      <td>1.0</td>\n",
       "      <td>0.0</td>\n",
       "      <td>1.0</td>\n",
       "    </tr>\n",
       "    <tr>\n",
       "      <th>...</th>\n",
       "      <td>...</td>\n",
       "      <td>...</td>\n",
       "      <td>...</td>\n",
       "      <td>...</td>\n",
       "      <td>...</td>\n",
       "      <td>...</td>\n",
       "      <td>...</td>\n",
       "      <td>...</td>\n",
       "      <td>...</td>\n",
       "      <td>...</td>\n",
       "      <td>...</td>\n",
       "      <td>...</td>\n",
       "      <td>...</td>\n",
       "      <td>...</td>\n",
       "      <td>...</td>\n",
       "      <td>...</td>\n",
       "      <td>...</td>\n",
       "      <td>...</td>\n",
       "      <td>...</td>\n",
       "      <td>...</td>\n",
       "      <td>...</td>\n",
       "    </tr>\n",
       "    <tr>\n",
       "      <th>959</th>\n",
       "      <td>1.0</td>\n",
       "      <td>1.0</td>\n",
       "      <td>NaN</td>\n",
       "      <td>NaN</td>\n",
       "      <td>NaN</td>\n",
       "      <td>NaN</td>\n",
       "      <td>NaN</td>\n",
       "      <td>NaN</td>\n",
       "      <td>NaN</td>\n",
       "      <td>NaN</td>\n",
       "      <td>...</td>\n",
       "      <td>NaN</td>\n",
       "      <td>NaN</td>\n",
       "      <td>NaN</td>\n",
       "      <td>NaN</td>\n",
       "      <td>NaN</td>\n",
       "      <td>NaN</td>\n",
       "      <td>0.0</td>\n",
       "      <td>0.0</td>\n",
       "      <td>0.0</td>\n",
       "      <td>1.0</td>\n",
       "    </tr>\n",
       "    <tr>\n",
       "      <th>960</th>\n",
       "      <td>1.0</td>\n",
       "      <td>NaN</td>\n",
       "      <td>NaN</td>\n",
       "      <td>NaN</td>\n",
       "      <td>NaN</td>\n",
       "      <td>NaN</td>\n",
       "      <td>NaN</td>\n",
       "      <td>NaN</td>\n",
       "      <td>NaN</td>\n",
       "      <td>NaN</td>\n",
       "      <td>...</td>\n",
       "      <td>NaN</td>\n",
       "      <td>NaN</td>\n",
       "      <td>NaN</td>\n",
       "      <td>NaN</td>\n",
       "      <td>NaN</td>\n",
       "      <td>NaN</td>\n",
       "      <td>0.0</td>\n",
       "      <td>0.0</td>\n",
       "      <td>0.0</td>\n",
       "      <td>0.0</td>\n",
       "    </tr>\n",
       "    <tr>\n",
       "      <th>961</th>\n",
       "      <td>1.0</td>\n",
       "      <td>1.0</td>\n",
       "      <td>1.0</td>\n",
       "      <td>1.0</td>\n",
       "      <td>1.0</td>\n",
       "      <td>NaN</td>\n",
       "      <td>NaN</td>\n",
       "      <td>NaN</td>\n",
       "      <td>NaN</td>\n",
       "      <td>NaN</td>\n",
       "      <td>...</td>\n",
       "      <td>NaN</td>\n",
       "      <td>NaN</td>\n",
       "      <td>NaN</td>\n",
       "      <td>NaN</td>\n",
       "      <td>NaN</td>\n",
       "      <td>NaN</td>\n",
       "      <td>0.0</td>\n",
       "      <td>0.0</td>\n",
       "      <td>0.0</td>\n",
       "      <td>1.0</td>\n",
       "    </tr>\n",
       "    <tr>\n",
       "      <th>962</th>\n",
       "      <td>1.0</td>\n",
       "      <td>1.0</td>\n",
       "      <td>NaN</td>\n",
       "      <td>NaN</td>\n",
       "      <td>NaN</td>\n",
       "      <td>NaN</td>\n",
       "      <td>NaN</td>\n",
       "      <td>NaN</td>\n",
       "      <td>NaN</td>\n",
       "      <td>NaN</td>\n",
       "      <td>...</td>\n",
       "      <td>NaN</td>\n",
       "      <td>NaN</td>\n",
       "      <td>NaN</td>\n",
       "      <td>NaN</td>\n",
       "      <td>NaN</td>\n",
       "      <td>NaN</td>\n",
       "      <td>0.0</td>\n",
       "      <td>1.0</td>\n",
       "      <td>1.0</td>\n",
       "      <td>0.0</td>\n",
       "    </tr>\n",
       "    <tr>\n",
       "      <th>963</th>\n",
       "      <td>1.0</td>\n",
       "      <td>NaN</td>\n",
       "      <td>NaN</td>\n",
       "      <td>NaN</td>\n",
       "      <td>NaN</td>\n",
       "      <td>NaN</td>\n",
       "      <td>NaN</td>\n",
       "      <td>NaN</td>\n",
       "      <td>NaN</td>\n",
       "      <td>NaN</td>\n",
       "      <td>...</td>\n",
       "      <td>NaN</td>\n",
       "      <td>NaN</td>\n",
       "      <td>NaN</td>\n",
       "      <td>NaN</td>\n",
       "      <td>NaN</td>\n",
       "      <td>NaN</td>\n",
       "      <td>0.0</td>\n",
       "      <td>0.0</td>\n",
       "      <td>0.0</td>\n",
       "      <td>0.0</td>\n",
       "    </tr>\n",
       "  </tbody>\n",
       "</table>\n",
       "<p>964 rows × 813 columns</p>\n",
       "</div>"
      ],
      "text/plain": [
       "     FSAFIL1  FSAFIL2  FSAFIL3  FSAFIL4  FSAFIL5  FSAFIL6  FSAFIL7  FSAFIL8  \\\n",
       "0        1.0      NaN      NaN      NaN      NaN      NaN      NaN      NaN   \n",
       "1        1.0      1.0      NaN      NaN      NaN      NaN      NaN      NaN   \n",
       "2        1.0      1.0      NaN      NaN      NaN      NaN      NaN      NaN   \n",
       "3        1.0      NaN      NaN      NaN      NaN      NaN      NaN      NaN   \n",
       "4        1.0      1.0      NaN      NaN      NaN      NaN      NaN      NaN   \n",
       "..       ...      ...      ...      ...      ...      ...      ...      ...   \n",
       "959      1.0      1.0      NaN      NaN      NaN      NaN      NaN      NaN   \n",
       "960      1.0      NaN      NaN      NaN      NaN      NaN      NaN      NaN   \n",
       "961      1.0      1.0      1.0      1.0      1.0      NaN      NaN      NaN   \n",
       "962      1.0      1.0      NaN      NaN      NaN      NaN      NaN      NaN   \n",
       "963      1.0      NaN      NaN      NaN      NaN      NaN      NaN      NaN   \n",
       "\n",
       "     FSAFIL9  FSAFIL10  ...  WORK11  WORK12  WORK13  WORK14  WORK15  WORK16  \\\n",
       "0        NaN       NaN  ...     NaN     NaN     NaN     NaN     NaN     NaN   \n",
       "1        NaN       NaN  ...     NaN     NaN     NaN     NaN     NaN     NaN   \n",
       "2        NaN       NaN  ...     NaN     NaN     NaN     NaN     NaN     NaN   \n",
       "3        NaN       NaN  ...     NaN     NaN     NaN     NaN     NaN     NaN   \n",
       "4        NaN       NaN  ...     NaN     NaN     NaN     NaN     NaN     NaN   \n",
       "..       ...       ...  ...     ...     ...     ...     ...     ...     ...   \n",
       "959      NaN       NaN  ...     NaN     NaN     NaN     NaN     NaN     NaN   \n",
       "960      NaN       NaN  ...     NaN     NaN     NaN     NaN     NaN     NaN   \n",
       "961      NaN       NaN  ...     NaN     NaN     NaN     NaN     NaN     NaN   \n",
       "962      NaN       NaN  ...     NaN     NaN     NaN     NaN     NaN     NaN   \n",
       "963      NaN       NaN  ...     NaN     NaN     NaN     NaN     NaN     NaN   \n",
       "\n",
       "     FSNONCIT  FSDIS  FSELDER  FSKID  \n",
       "0         0.0    0.0      0.0    0.0  \n",
       "1         0.0    0.0      1.0    1.0  \n",
       "2         0.0    0.0      0.0    1.0  \n",
       "3         0.0    0.0      0.0    0.0  \n",
       "4         0.0    1.0      0.0    1.0  \n",
       "..        ...    ...      ...    ...  \n",
       "959       0.0    0.0      0.0    1.0  \n",
       "960       0.0    0.0      0.0    0.0  \n",
       "961       0.0    0.0      0.0    1.0  \n",
       "962       0.0    1.0      1.0    0.0  \n",
       "963       0.0    0.0      0.0    0.0  \n",
       "\n",
       "[964 rows x 813 columns]"
      ]
     },
     "execution_count": 21,
     "metadata": {},
     "output_type": "execute_result"
    }
   ],
   "source": [
    "#New Mexico dataframe\n",
    "df_nm17 = pd.read_csv('./data/nm17.csv')\n",
    "df_nm17"
   ]
  },
  {
   "cell_type": "code",
   "execution_count": 22,
   "id": "e5ffbbf0-ec23-4f8a-94d8-067ae418103b",
   "metadata": {
    "tags": []
   },
   "outputs": [
    {
     "data": {
      "text/plain": [
       "CAT_ELIG\n",
       "0.0    813\n",
       "1.0    442\n",
       "Name: count, dtype: int64"
      ]
     },
     "execution_count": 22,
     "metadata": {},
     "output_type": "execute_result"
    }
   ],
   "source": [
    "df_nm07['CAT_ELIG'].value_counts()"
   ]
  },
  {
   "cell_type": "code",
   "execution_count": 23,
   "id": "c2305edf-ba83-4655-8f23-e888c999e2d1",
   "metadata": {
    "tags": []
   },
   "outputs": [
    {
     "data": {
      "text/plain": [
       "CAT_ELIG\n",
       "1.0    964\n",
       "Name: count, dtype: int64"
      ]
     },
     "execution_count": 23,
     "metadata": {},
     "output_type": "execute_result"
    }
   ],
   "source": [
    "df_nm17['CAT_ELIG'].value_counts()"
   ]
  },
  {
   "cell_type": "markdown",
   "id": "e105c520-9fb5-43b0-a9b8-886c5797677e",
   "metadata": {},
   "source": [
    "## *Nebraska*"
   ]
  },
  {
   "cell_type": "code",
   "execution_count": 24,
   "id": "6f9a3c7c-7153-48ba-985f-5e9902f8a4d9",
   "metadata": {
    "tags": []
   },
   "outputs": [],
   "source": [
    "# Save Nebrasks records\n",
    "ne07 = snap07.loc[snap07['STATE'] == 31].astype('float64')\n",
    "ne07_target = ne07['CAT_ELIG']\n",
    "ne07.to_csv('./data/ne07.csv',index=None)"
   ]
  },
  {
   "cell_type": "code",
   "execution_count": 25,
   "id": "456c8d05-1b01-4f2b-ae7e-ea46855a284b",
   "metadata": {
    "tags": []
   },
   "outputs": [],
   "source": [
    "ne17 = snap17.loc[snap17['STATE'] == 31]\n",
    "ne17_target = ne17['CAT_ELIG']\n",
    "ne17 = ne17.drop(columns = ['STATENAME'])\n",
    "ne17 = ne17.astype('float64')\n",
    "ne17.to_csv('./data/ne17.csv',index=None)"
   ]
  },
  {
   "cell_type": "code",
   "execution_count": 26,
   "id": "dfa421b6-e60f-42c0-8c82-1a99e1513f78",
   "metadata": {
    "tags": []
   },
   "outputs": [
    {
     "data": {
      "text/html": [
       "<div>\n",
       "<style scoped>\n",
       "    .dataframe tbody tr th:only-of-type {\n",
       "        vertical-align: middle;\n",
       "    }\n",
       "\n",
       "    .dataframe tbody tr th {\n",
       "        vertical-align: top;\n",
       "    }\n",
       "\n",
       "    .dataframe thead th {\n",
       "        text-align: right;\n",
       "    }\n",
       "</style>\n",
       "<table border=\"1\" class=\"dataframe\">\n",
       "  <thead>\n",
       "    <tr style=\"text-align: right;\">\n",
       "      <th></th>\n",
       "      <th>FSAFIL1</th>\n",
       "      <th>FSAFIL2</th>\n",
       "      <th>FSAFIL3</th>\n",
       "      <th>FSAFIL4</th>\n",
       "      <th>FSAFIL5</th>\n",
       "      <th>FSAFIL6</th>\n",
       "      <th>FSAFIL7</th>\n",
       "      <th>FSAFIL8</th>\n",
       "      <th>FSAFIL9</th>\n",
       "      <th>FSAFIL10</th>\n",
       "      <th>...</th>\n",
       "      <th>NDISCA7</th>\n",
       "      <th>NDISCA8</th>\n",
       "      <th>NDISCA9</th>\n",
       "      <th>NDISCA10</th>\n",
       "      <th>NDISCA11</th>\n",
       "      <th>NDISCA12</th>\n",
       "      <th>NDISCA13</th>\n",
       "      <th>NDISCA14</th>\n",
       "      <th>NDISCA15</th>\n",
       "      <th>NDISCA16</th>\n",
       "    </tr>\n",
       "  </thead>\n",
       "  <tbody>\n",
       "    <tr>\n",
       "      <th>0</th>\n",
       "      <td>1.0</td>\n",
       "      <td>1.0</td>\n",
       "      <td>1.0</td>\n",
       "      <td>NaN</td>\n",
       "      <td>NaN</td>\n",
       "      <td>NaN</td>\n",
       "      <td>NaN</td>\n",
       "      <td>NaN</td>\n",
       "      <td>NaN</td>\n",
       "      <td>NaN</td>\n",
       "      <td>...</td>\n",
       "      <td>NaN</td>\n",
       "      <td>NaN</td>\n",
       "      <td>NaN</td>\n",
       "      <td>NaN</td>\n",
       "      <td>NaN</td>\n",
       "      <td>NaN</td>\n",
       "      <td>NaN</td>\n",
       "      <td>NaN</td>\n",
       "      <td>NaN</td>\n",
       "      <td>NaN</td>\n",
       "    </tr>\n",
       "    <tr>\n",
       "      <th>1</th>\n",
       "      <td>1.0</td>\n",
       "      <td>NaN</td>\n",
       "      <td>NaN</td>\n",
       "      <td>NaN</td>\n",
       "      <td>NaN</td>\n",
       "      <td>NaN</td>\n",
       "      <td>NaN</td>\n",
       "      <td>NaN</td>\n",
       "      <td>NaN</td>\n",
       "      <td>NaN</td>\n",
       "      <td>...</td>\n",
       "      <td>NaN</td>\n",
       "      <td>NaN</td>\n",
       "      <td>NaN</td>\n",
       "      <td>NaN</td>\n",
       "      <td>NaN</td>\n",
       "      <td>NaN</td>\n",
       "      <td>NaN</td>\n",
       "      <td>NaN</td>\n",
       "      <td>NaN</td>\n",
       "      <td>NaN</td>\n",
       "    </tr>\n",
       "    <tr>\n",
       "      <th>2</th>\n",
       "      <td>1.0</td>\n",
       "      <td>NaN</td>\n",
       "      <td>NaN</td>\n",
       "      <td>NaN</td>\n",
       "      <td>NaN</td>\n",
       "      <td>NaN</td>\n",
       "      <td>NaN</td>\n",
       "      <td>NaN</td>\n",
       "      <td>NaN</td>\n",
       "      <td>NaN</td>\n",
       "      <td>...</td>\n",
       "      <td>NaN</td>\n",
       "      <td>NaN</td>\n",
       "      <td>NaN</td>\n",
       "      <td>NaN</td>\n",
       "      <td>NaN</td>\n",
       "      <td>NaN</td>\n",
       "      <td>NaN</td>\n",
       "      <td>NaN</td>\n",
       "      <td>NaN</td>\n",
       "      <td>NaN</td>\n",
       "    </tr>\n",
       "    <tr>\n",
       "      <th>3</th>\n",
       "      <td>1.0</td>\n",
       "      <td>1.0</td>\n",
       "      <td>1.0</td>\n",
       "      <td>1.0</td>\n",
       "      <td>1.0</td>\n",
       "      <td>NaN</td>\n",
       "      <td>NaN</td>\n",
       "      <td>NaN</td>\n",
       "      <td>NaN</td>\n",
       "      <td>NaN</td>\n",
       "      <td>...</td>\n",
       "      <td>NaN</td>\n",
       "      <td>NaN</td>\n",
       "      <td>NaN</td>\n",
       "      <td>NaN</td>\n",
       "      <td>NaN</td>\n",
       "      <td>NaN</td>\n",
       "      <td>NaN</td>\n",
       "      <td>NaN</td>\n",
       "      <td>NaN</td>\n",
       "      <td>NaN</td>\n",
       "    </tr>\n",
       "    <tr>\n",
       "      <th>4</th>\n",
       "      <td>1.0</td>\n",
       "      <td>NaN</td>\n",
       "      <td>NaN</td>\n",
       "      <td>NaN</td>\n",
       "      <td>NaN</td>\n",
       "      <td>NaN</td>\n",
       "      <td>NaN</td>\n",
       "      <td>NaN</td>\n",
       "      <td>NaN</td>\n",
       "      <td>NaN</td>\n",
       "      <td>...</td>\n",
       "      <td>NaN</td>\n",
       "      <td>NaN</td>\n",
       "      <td>NaN</td>\n",
       "      <td>NaN</td>\n",
       "      <td>NaN</td>\n",
       "      <td>NaN</td>\n",
       "      <td>NaN</td>\n",
       "      <td>NaN</td>\n",
       "      <td>NaN</td>\n",
       "      <td>NaN</td>\n",
       "    </tr>\n",
       "    <tr>\n",
       "      <th>...</th>\n",
       "      <td>...</td>\n",
       "      <td>...</td>\n",
       "      <td>...</td>\n",
       "      <td>...</td>\n",
       "      <td>...</td>\n",
       "      <td>...</td>\n",
       "      <td>...</td>\n",
       "      <td>...</td>\n",
       "      <td>...</td>\n",
       "      <td>...</td>\n",
       "      <td>...</td>\n",
       "      <td>...</td>\n",
       "      <td>...</td>\n",
       "      <td>...</td>\n",
       "      <td>...</td>\n",
       "      <td>...</td>\n",
       "      <td>...</td>\n",
       "      <td>...</td>\n",
       "      <td>...</td>\n",
       "      <td>...</td>\n",
       "      <td>...</td>\n",
       "    </tr>\n",
       "    <tr>\n",
       "      <th>786</th>\n",
       "      <td>1.0</td>\n",
       "      <td>1.0</td>\n",
       "      <td>1.0</td>\n",
       "      <td>1.0</td>\n",
       "      <td>NaN</td>\n",
       "      <td>NaN</td>\n",
       "      <td>NaN</td>\n",
       "      <td>NaN</td>\n",
       "      <td>NaN</td>\n",
       "      <td>NaN</td>\n",
       "      <td>...</td>\n",
       "      <td>NaN</td>\n",
       "      <td>NaN</td>\n",
       "      <td>NaN</td>\n",
       "      <td>NaN</td>\n",
       "      <td>NaN</td>\n",
       "      <td>NaN</td>\n",
       "      <td>NaN</td>\n",
       "      <td>NaN</td>\n",
       "      <td>NaN</td>\n",
       "      <td>NaN</td>\n",
       "    </tr>\n",
       "    <tr>\n",
       "      <th>787</th>\n",
       "      <td>1.0</td>\n",
       "      <td>1.0</td>\n",
       "      <td>1.0</td>\n",
       "      <td>NaN</td>\n",
       "      <td>NaN</td>\n",
       "      <td>NaN</td>\n",
       "      <td>NaN</td>\n",
       "      <td>NaN</td>\n",
       "      <td>NaN</td>\n",
       "      <td>NaN</td>\n",
       "      <td>...</td>\n",
       "      <td>NaN</td>\n",
       "      <td>NaN</td>\n",
       "      <td>NaN</td>\n",
       "      <td>NaN</td>\n",
       "      <td>NaN</td>\n",
       "      <td>NaN</td>\n",
       "      <td>NaN</td>\n",
       "      <td>NaN</td>\n",
       "      <td>NaN</td>\n",
       "      <td>NaN</td>\n",
       "    </tr>\n",
       "    <tr>\n",
       "      <th>788</th>\n",
       "      <td>1.0</td>\n",
       "      <td>1.0</td>\n",
       "      <td>NaN</td>\n",
       "      <td>NaN</td>\n",
       "      <td>NaN</td>\n",
       "      <td>NaN</td>\n",
       "      <td>NaN</td>\n",
       "      <td>NaN</td>\n",
       "      <td>NaN</td>\n",
       "      <td>NaN</td>\n",
       "      <td>...</td>\n",
       "      <td>NaN</td>\n",
       "      <td>NaN</td>\n",
       "      <td>NaN</td>\n",
       "      <td>NaN</td>\n",
       "      <td>NaN</td>\n",
       "      <td>NaN</td>\n",
       "      <td>NaN</td>\n",
       "      <td>NaN</td>\n",
       "      <td>NaN</td>\n",
       "      <td>NaN</td>\n",
       "    </tr>\n",
       "    <tr>\n",
       "      <th>789</th>\n",
       "      <td>1.0</td>\n",
       "      <td>1.0</td>\n",
       "      <td>NaN</td>\n",
       "      <td>NaN</td>\n",
       "      <td>NaN</td>\n",
       "      <td>NaN</td>\n",
       "      <td>NaN</td>\n",
       "      <td>NaN</td>\n",
       "      <td>NaN</td>\n",
       "      <td>NaN</td>\n",
       "      <td>...</td>\n",
       "      <td>NaN</td>\n",
       "      <td>NaN</td>\n",
       "      <td>NaN</td>\n",
       "      <td>NaN</td>\n",
       "      <td>NaN</td>\n",
       "      <td>NaN</td>\n",
       "      <td>NaN</td>\n",
       "      <td>NaN</td>\n",
       "      <td>NaN</td>\n",
       "      <td>NaN</td>\n",
       "    </tr>\n",
       "    <tr>\n",
       "      <th>790</th>\n",
       "      <td>1.0</td>\n",
       "      <td>1.0</td>\n",
       "      <td>1.0</td>\n",
       "      <td>1.0</td>\n",
       "      <td>NaN</td>\n",
       "      <td>NaN</td>\n",
       "      <td>NaN</td>\n",
       "      <td>NaN</td>\n",
       "      <td>NaN</td>\n",
       "      <td>NaN</td>\n",
       "      <td>...</td>\n",
       "      <td>NaN</td>\n",
       "      <td>NaN</td>\n",
       "      <td>NaN</td>\n",
       "      <td>NaN</td>\n",
       "      <td>NaN</td>\n",
       "      <td>NaN</td>\n",
       "      <td>NaN</td>\n",
       "      <td>NaN</td>\n",
       "      <td>NaN</td>\n",
       "      <td>NaN</td>\n",
       "    </tr>\n",
       "  </tbody>\n",
       "</table>\n",
       "<p>791 rows × 769 columns</p>\n",
       "</div>"
      ],
      "text/plain": [
       "     FSAFIL1  FSAFIL2  FSAFIL3  FSAFIL4  FSAFIL5  FSAFIL6  FSAFIL7  FSAFIL8  \\\n",
       "0        1.0      1.0      1.0      NaN      NaN      NaN      NaN      NaN   \n",
       "1        1.0      NaN      NaN      NaN      NaN      NaN      NaN      NaN   \n",
       "2        1.0      NaN      NaN      NaN      NaN      NaN      NaN      NaN   \n",
       "3        1.0      1.0      1.0      1.0      1.0      NaN      NaN      NaN   \n",
       "4        1.0      NaN      NaN      NaN      NaN      NaN      NaN      NaN   \n",
       "..       ...      ...      ...      ...      ...      ...      ...      ...   \n",
       "786      1.0      1.0      1.0      1.0      NaN      NaN      NaN      NaN   \n",
       "787      1.0      1.0      1.0      NaN      NaN      NaN      NaN      NaN   \n",
       "788      1.0      1.0      NaN      NaN      NaN      NaN      NaN      NaN   \n",
       "789      1.0      1.0      NaN      NaN      NaN      NaN      NaN      NaN   \n",
       "790      1.0      1.0      1.0      1.0      NaN      NaN      NaN      NaN   \n",
       "\n",
       "     FSAFIL9  FSAFIL10  ...  NDISCA7  NDISCA8  NDISCA9  NDISCA10  NDISCA11  \\\n",
       "0        NaN       NaN  ...      NaN      NaN      NaN       NaN       NaN   \n",
       "1        NaN       NaN  ...      NaN      NaN      NaN       NaN       NaN   \n",
       "2        NaN       NaN  ...      NaN      NaN      NaN       NaN       NaN   \n",
       "3        NaN       NaN  ...      NaN      NaN      NaN       NaN       NaN   \n",
       "4        NaN       NaN  ...      NaN      NaN      NaN       NaN       NaN   \n",
       "..       ...       ...  ...      ...      ...      ...       ...       ...   \n",
       "786      NaN       NaN  ...      NaN      NaN      NaN       NaN       NaN   \n",
       "787      NaN       NaN  ...      NaN      NaN      NaN       NaN       NaN   \n",
       "788      NaN       NaN  ...      NaN      NaN      NaN       NaN       NaN   \n",
       "789      NaN       NaN  ...      NaN      NaN      NaN       NaN       NaN   \n",
       "790      NaN       NaN  ...      NaN      NaN      NaN       NaN       NaN   \n",
       "\n",
       "     NDISCA12  NDISCA13  NDISCA14  NDISCA15  NDISCA16  \n",
       "0         NaN       NaN       NaN       NaN       NaN  \n",
       "1         NaN       NaN       NaN       NaN       NaN  \n",
       "2         NaN       NaN       NaN       NaN       NaN  \n",
       "3         NaN       NaN       NaN       NaN       NaN  \n",
       "4         NaN       NaN       NaN       NaN       NaN  \n",
       "..        ...       ...       ...       ...       ...  \n",
       "786       NaN       NaN       NaN       NaN       NaN  \n",
       "787       NaN       NaN       NaN       NaN       NaN  \n",
       "788       NaN       NaN       NaN       NaN       NaN  \n",
       "789       NaN       NaN       NaN       NaN       NaN  \n",
       "790       NaN       NaN       NaN       NaN       NaN  \n",
       "\n",
       "[791 rows x 769 columns]"
      ]
     },
     "execution_count": 26,
     "metadata": {},
     "output_type": "execute_result"
    }
   ],
   "source": [
    "#Nebraska dataframe\n",
    "df_ne07 = pd.read_csv('./data/ne07.csv')\n",
    "df_ne07"
   ]
  },
  {
   "cell_type": "code",
   "execution_count": 27,
   "id": "07c385d5-8863-4301-bd07-6e76f07d53f6",
   "metadata": {
    "tags": []
   },
   "outputs": [
    {
     "data": {
      "text/html": [
       "<div>\n",
       "<style scoped>\n",
       "    .dataframe tbody tr th:only-of-type {\n",
       "        vertical-align: middle;\n",
       "    }\n",
       "\n",
       "    .dataframe tbody tr th {\n",
       "        vertical-align: top;\n",
       "    }\n",
       "\n",
       "    .dataframe thead th {\n",
       "        text-align: right;\n",
       "    }\n",
       "</style>\n",
       "<table border=\"1\" class=\"dataframe\">\n",
       "  <thead>\n",
       "    <tr style=\"text-align: right;\">\n",
       "      <th></th>\n",
       "      <th>FSAFIL1</th>\n",
       "      <th>FSAFIL2</th>\n",
       "      <th>FSAFIL3</th>\n",
       "      <th>FSAFIL4</th>\n",
       "      <th>FSAFIL5</th>\n",
       "      <th>FSAFIL6</th>\n",
       "      <th>FSAFIL7</th>\n",
       "      <th>FSAFIL8</th>\n",
       "      <th>FSAFIL9</th>\n",
       "      <th>FSAFIL10</th>\n",
       "      <th>...</th>\n",
       "      <th>WORK11</th>\n",
       "      <th>WORK12</th>\n",
       "      <th>WORK13</th>\n",
       "      <th>WORK14</th>\n",
       "      <th>WORK15</th>\n",
       "      <th>WORK16</th>\n",
       "      <th>FSNONCIT</th>\n",
       "      <th>FSDIS</th>\n",
       "      <th>FSELDER</th>\n",
       "      <th>FSKID</th>\n",
       "    </tr>\n",
       "  </thead>\n",
       "  <tbody>\n",
       "    <tr>\n",
       "      <th>0</th>\n",
       "      <td>1.0</td>\n",
       "      <td>1.0</td>\n",
       "      <td>NaN</td>\n",
       "      <td>NaN</td>\n",
       "      <td>NaN</td>\n",
       "      <td>NaN</td>\n",
       "      <td>NaN</td>\n",
       "      <td>NaN</td>\n",
       "      <td>NaN</td>\n",
       "      <td>NaN</td>\n",
       "      <td>...</td>\n",
       "      <td>NaN</td>\n",
       "      <td>NaN</td>\n",
       "      <td>NaN</td>\n",
       "      <td>NaN</td>\n",
       "      <td>NaN</td>\n",
       "      <td>NaN</td>\n",
       "      <td>0.0</td>\n",
       "      <td>0.0</td>\n",
       "      <td>0.0</td>\n",
       "      <td>0.0</td>\n",
       "    </tr>\n",
       "    <tr>\n",
       "      <th>1</th>\n",
       "      <td>1.0</td>\n",
       "      <td>1.0</td>\n",
       "      <td>NaN</td>\n",
       "      <td>NaN</td>\n",
       "      <td>NaN</td>\n",
       "      <td>NaN</td>\n",
       "      <td>NaN</td>\n",
       "      <td>NaN</td>\n",
       "      <td>NaN</td>\n",
       "      <td>NaN</td>\n",
       "      <td>...</td>\n",
       "      <td>NaN</td>\n",
       "      <td>NaN</td>\n",
       "      <td>NaN</td>\n",
       "      <td>NaN</td>\n",
       "      <td>NaN</td>\n",
       "      <td>NaN</td>\n",
       "      <td>0.0</td>\n",
       "      <td>1.0</td>\n",
       "      <td>0.0</td>\n",
       "      <td>0.0</td>\n",
       "    </tr>\n",
       "    <tr>\n",
       "      <th>2</th>\n",
       "      <td>1.0</td>\n",
       "      <td>NaN</td>\n",
       "      <td>NaN</td>\n",
       "      <td>NaN</td>\n",
       "      <td>NaN</td>\n",
       "      <td>NaN</td>\n",
       "      <td>NaN</td>\n",
       "      <td>NaN</td>\n",
       "      <td>NaN</td>\n",
       "      <td>NaN</td>\n",
       "      <td>...</td>\n",
       "      <td>NaN</td>\n",
       "      <td>NaN</td>\n",
       "      <td>NaN</td>\n",
       "      <td>NaN</td>\n",
       "      <td>NaN</td>\n",
       "      <td>NaN</td>\n",
       "      <td>0.0</td>\n",
       "      <td>0.0</td>\n",
       "      <td>1.0</td>\n",
       "      <td>0.0</td>\n",
       "    </tr>\n",
       "    <tr>\n",
       "      <th>3</th>\n",
       "      <td>1.0</td>\n",
       "      <td>NaN</td>\n",
       "      <td>NaN</td>\n",
       "      <td>NaN</td>\n",
       "      <td>NaN</td>\n",
       "      <td>NaN</td>\n",
       "      <td>NaN</td>\n",
       "      <td>NaN</td>\n",
       "      <td>NaN</td>\n",
       "      <td>NaN</td>\n",
       "      <td>...</td>\n",
       "      <td>NaN</td>\n",
       "      <td>NaN</td>\n",
       "      <td>NaN</td>\n",
       "      <td>NaN</td>\n",
       "      <td>NaN</td>\n",
       "      <td>NaN</td>\n",
       "      <td>0.0</td>\n",
       "      <td>1.0</td>\n",
       "      <td>0.0</td>\n",
       "      <td>0.0</td>\n",
       "    </tr>\n",
       "    <tr>\n",
       "      <th>4</th>\n",
       "      <td>1.0</td>\n",
       "      <td>1.0</td>\n",
       "      <td>NaN</td>\n",
       "      <td>NaN</td>\n",
       "      <td>NaN</td>\n",
       "      <td>NaN</td>\n",
       "      <td>NaN</td>\n",
       "      <td>NaN</td>\n",
       "      <td>NaN</td>\n",
       "      <td>NaN</td>\n",
       "      <td>...</td>\n",
       "      <td>NaN</td>\n",
       "      <td>NaN</td>\n",
       "      <td>NaN</td>\n",
       "      <td>NaN</td>\n",
       "      <td>NaN</td>\n",
       "      <td>NaN</td>\n",
       "      <td>0.0</td>\n",
       "      <td>0.0</td>\n",
       "      <td>1.0</td>\n",
       "      <td>0.0</td>\n",
       "    </tr>\n",
       "    <tr>\n",
       "      <th>...</th>\n",
       "      <td>...</td>\n",
       "      <td>...</td>\n",
       "      <td>...</td>\n",
       "      <td>...</td>\n",
       "      <td>...</td>\n",
       "      <td>...</td>\n",
       "      <td>...</td>\n",
       "      <td>...</td>\n",
       "      <td>...</td>\n",
       "      <td>...</td>\n",
       "      <td>...</td>\n",
       "      <td>...</td>\n",
       "      <td>...</td>\n",
       "      <td>...</td>\n",
       "      <td>...</td>\n",
       "      <td>...</td>\n",
       "      <td>...</td>\n",
       "      <td>...</td>\n",
       "      <td>...</td>\n",
       "      <td>...</td>\n",
       "      <td>...</td>\n",
       "    </tr>\n",
       "    <tr>\n",
       "      <th>889</th>\n",
       "      <td>1.0</td>\n",
       "      <td>NaN</td>\n",
       "      <td>NaN</td>\n",
       "      <td>NaN</td>\n",
       "      <td>NaN</td>\n",
       "      <td>NaN</td>\n",
       "      <td>NaN</td>\n",
       "      <td>NaN</td>\n",
       "      <td>NaN</td>\n",
       "      <td>NaN</td>\n",
       "      <td>...</td>\n",
       "      <td>NaN</td>\n",
       "      <td>NaN</td>\n",
       "      <td>NaN</td>\n",
       "      <td>NaN</td>\n",
       "      <td>NaN</td>\n",
       "      <td>NaN</td>\n",
       "      <td>0.0</td>\n",
       "      <td>0.0</td>\n",
       "      <td>0.0</td>\n",
       "      <td>0.0</td>\n",
       "    </tr>\n",
       "    <tr>\n",
       "      <th>890</th>\n",
       "      <td>1.0</td>\n",
       "      <td>NaN</td>\n",
       "      <td>NaN</td>\n",
       "      <td>NaN</td>\n",
       "      <td>NaN</td>\n",
       "      <td>NaN</td>\n",
       "      <td>NaN</td>\n",
       "      <td>NaN</td>\n",
       "      <td>NaN</td>\n",
       "      <td>NaN</td>\n",
       "      <td>...</td>\n",
       "      <td>NaN</td>\n",
       "      <td>NaN</td>\n",
       "      <td>NaN</td>\n",
       "      <td>NaN</td>\n",
       "      <td>NaN</td>\n",
       "      <td>NaN</td>\n",
       "      <td>0.0</td>\n",
       "      <td>0.0</td>\n",
       "      <td>0.0</td>\n",
       "      <td>0.0</td>\n",
       "    </tr>\n",
       "    <tr>\n",
       "      <th>891</th>\n",
       "      <td>1.0</td>\n",
       "      <td>1.0</td>\n",
       "      <td>NaN</td>\n",
       "      <td>NaN</td>\n",
       "      <td>NaN</td>\n",
       "      <td>NaN</td>\n",
       "      <td>NaN</td>\n",
       "      <td>NaN</td>\n",
       "      <td>NaN</td>\n",
       "      <td>NaN</td>\n",
       "      <td>...</td>\n",
       "      <td>NaN</td>\n",
       "      <td>NaN</td>\n",
       "      <td>NaN</td>\n",
       "      <td>NaN</td>\n",
       "      <td>NaN</td>\n",
       "      <td>NaN</td>\n",
       "      <td>0.0</td>\n",
       "      <td>1.0</td>\n",
       "      <td>0.0</td>\n",
       "      <td>1.0</td>\n",
       "    </tr>\n",
       "    <tr>\n",
       "      <th>892</th>\n",
       "      <td>1.0</td>\n",
       "      <td>1.0</td>\n",
       "      <td>NaN</td>\n",
       "      <td>NaN</td>\n",
       "      <td>NaN</td>\n",
       "      <td>NaN</td>\n",
       "      <td>NaN</td>\n",
       "      <td>NaN</td>\n",
       "      <td>NaN</td>\n",
       "      <td>NaN</td>\n",
       "      <td>...</td>\n",
       "      <td>NaN</td>\n",
       "      <td>NaN</td>\n",
       "      <td>NaN</td>\n",
       "      <td>NaN</td>\n",
       "      <td>NaN</td>\n",
       "      <td>NaN</td>\n",
       "      <td>0.0</td>\n",
       "      <td>0.0</td>\n",
       "      <td>0.0</td>\n",
       "      <td>1.0</td>\n",
       "    </tr>\n",
       "    <tr>\n",
       "      <th>893</th>\n",
       "      <td>1.0</td>\n",
       "      <td>1.0</td>\n",
       "      <td>NaN</td>\n",
       "      <td>NaN</td>\n",
       "      <td>NaN</td>\n",
       "      <td>NaN</td>\n",
       "      <td>NaN</td>\n",
       "      <td>NaN</td>\n",
       "      <td>NaN</td>\n",
       "      <td>NaN</td>\n",
       "      <td>...</td>\n",
       "      <td>NaN</td>\n",
       "      <td>NaN</td>\n",
       "      <td>NaN</td>\n",
       "      <td>NaN</td>\n",
       "      <td>NaN</td>\n",
       "      <td>NaN</td>\n",
       "      <td>0.0</td>\n",
       "      <td>0.0</td>\n",
       "      <td>0.0</td>\n",
       "      <td>1.0</td>\n",
       "    </tr>\n",
       "  </tbody>\n",
       "</table>\n",
       "<p>894 rows × 813 columns</p>\n",
       "</div>"
      ],
      "text/plain": [
       "     FSAFIL1  FSAFIL2  FSAFIL3  FSAFIL4  FSAFIL5  FSAFIL6  FSAFIL7  FSAFIL8  \\\n",
       "0        1.0      1.0      NaN      NaN      NaN      NaN      NaN      NaN   \n",
       "1        1.0      1.0      NaN      NaN      NaN      NaN      NaN      NaN   \n",
       "2        1.0      NaN      NaN      NaN      NaN      NaN      NaN      NaN   \n",
       "3        1.0      NaN      NaN      NaN      NaN      NaN      NaN      NaN   \n",
       "4        1.0      1.0      NaN      NaN      NaN      NaN      NaN      NaN   \n",
       "..       ...      ...      ...      ...      ...      ...      ...      ...   \n",
       "889      1.0      NaN      NaN      NaN      NaN      NaN      NaN      NaN   \n",
       "890      1.0      NaN      NaN      NaN      NaN      NaN      NaN      NaN   \n",
       "891      1.0      1.0      NaN      NaN      NaN      NaN      NaN      NaN   \n",
       "892      1.0      1.0      NaN      NaN      NaN      NaN      NaN      NaN   \n",
       "893      1.0      1.0      NaN      NaN      NaN      NaN      NaN      NaN   \n",
       "\n",
       "     FSAFIL9  FSAFIL10  ...  WORK11  WORK12  WORK13  WORK14  WORK15  WORK16  \\\n",
       "0        NaN       NaN  ...     NaN     NaN     NaN     NaN     NaN     NaN   \n",
       "1        NaN       NaN  ...     NaN     NaN     NaN     NaN     NaN     NaN   \n",
       "2        NaN       NaN  ...     NaN     NaN     NaN     NaN     NaN     NaN   \n",
       "3        NaN       NaN  ...     NaN     NaN     NaN     NaN     NaN     NaN   \n",
       "4        NaN       NaN  ...     NaN     NaN     NaN     NaN     NaN     NaN   \n",
       "..       ...       ...  ...     ...     ...     ...     ...     ...     ...   \n",
       "889      NaN       NaN  ...     NaN     NaN     NaN     NaN     NaN     NaN   \n",
       "890      NaN       NaN  ...     NaN     NaN     NaN     NaN     NaN     NaN   \n",
       "891      NaN       NaN  ...     NaN     NaN     NaN     NaN     NaN     NaN   \n",
       "892      NaN       NaN  ...     NaN     NaN     NaN     NaN     NaN     NaN   \n",
       "893      NaN       NaN  ...     NaN     NaN     NaN     NaN     NaN     NaN   \n",
       "\n",
       "     FSNONCIT  FSDIS  FSELDER  FSKID  \n",
       "0         0.0    0.0      0.0    0.0  \n",
       "1         0.0    1.0      0.0    0.0  \n",
       "2         0.0    0.0      1.0    0.0  \n",
       "3         0.0    1.0      0.0    0.0  \n",
       "4         0.0    0.0      1.0    0.0  \n",
       "..        ...    ...      ...    ...  \n",
       "889       0.0    0.0      0.0    0.0  \n",
       "890       0.0    0.0      0.0    0.0  \n",
       "891       0.0    1.0      0.0    1.0  \n",
       "892       0.0    0.0      0.0    1.0  \n",
       "893       0.0    0.0      0.0    1.0  \n",
       "\n",
       "[894 rows x 813 columns]"
      ]
     },
     "execution_count": 27,
     "metadata": {},
     "output_type": "execute_result"
    }
   ],
   "source": [
    "df_ne17 = pd.read_csv('./data/ne17.csv')\n",
    "df_ne17"
   ]
  },
  {
   "cell_type": "code",
   "execution_count": 28,
   "id": "35cbe914-72da-4342-92a0-6a0d5d846933",
   "metadata": {
    "tags": []
   },
   "outputs": [
    {
     "data": {
      "text/plain": [
       "CAT_ELIG\n",
       "0.0    505\n",
       "1.0    286\n",
       "Name: count, dtype: int64"
      ]
     },
     "execution_count": 28,
     "metadata": {},
     "output_type": "execute_result"
    }
   ],
   "source": [
    "df_ne07['CAT_ELIG'].value_counts()"
   ]
  },
  {
   "cell_type": "code",
   "execution_count": 29,
   "id": "12d7aed2-3502-4f3a-8b15-18a79b875b44",
   "metadata": {
    "tags": []
   },
   "outputs": [
    {
     "data": {
      "text/plain": [
       "CAT_ELIG\n",
       "1.0    894\n",
       "Name: count, dtype: int64"
      ]
     },
     "execution_count": 29,
     "metadata": {},
     "output_type": "execute_result"
    }
   ],
   "source": [
    "df_ne17['CAT_ELIG'].value_counts()"
   ]
  },
  {
   "cell_type": "markdown",
   "id": "87385017-592c-4578-90fb-57b7cb8d181e",
   "metadata": {},
   "source": [
    "#### **Observations:** \n",
    "We can see there are 1255 people who applied for SNAP in New Mexico, opposed to 791 applications in Nebraska in 2007.\n",
    "\n",
    "There were significantly more people in both states (Nebraska: 894, New Mexico: 964) on SNAP in 2017. Due to a dramatic change, I suspect that it was due to more being eligible because of a change in qualifications."
   ]
  },
  {
   "cell_type": "markdown",
   "id": "0b52c4a3-919a-4b27-968b-28d5901c6031",
   "metadata": {},
   "source": [
    "# Initial Snapshots of the Data"
   ]
  },
  {
   "cell_type": "code",
   "execution_count": 30,
   "id": "31350ca0-5739-48e4-b0af-7b3e02d0ef96",
   "metadata": {
    "tags": []
   },
   "outputs": [
    {
     "ename": "AttributeError",
     "evalue": "Rectangle.set() got an unexpected keyword argument 'legend'",
     "output_type": "error",
     "traceback": [
      "\u001b[1;31m---------------------------------------------------------------------------\u001b[0m",
      "\u001b[1;31mAttributeError\u001b[0m                            Traceback (most recent call last)",
      "Cell \u001b[1;32mIn[30], line 1\u001b[0m\n\u001b[1;32m----> 1\u001b[0m sc\u001b[38;5;241m.\u001b[39mplot_simple_features(\u001b[38;5;124m'\u001b[39m\u001b[38;5;124mFSNELDER\u001b[39m\u001b[38;5;124m'\u001b[39m,\u001b[38;5;124m'\u001b[39m\u001b[38;5;124melderly\u001b[39m\u001b[38;5;124m'\u001b[39m,\u001b[38;5;124m\"\u001b[39m\u001b[38;5;124mNumber of Elderly(over age 60)\u001b[39m\u001b[38;5;124m\"\u001b[39m)\n",
      "File \u001b[1;32m~\\OneDrive\\Documents\\Bootcamp GIS\\SNAP\\python_code\\Scripts.py:88\u001b[0m, in \u001b[0;36mplot_simple_features\u001b[1;34m(column, img_name, description)\u001b[0m\n\u001b[0;32m     86\u001b[0m ax \u001b[38;5;241m=\u001b[39m plt\u001b[38;5;241m.\u001b[39msubplot(idx)\n\u001b[0;32m     87\u001b[0m plt\u001b[38;5;241m.\u001b[39mtitle(\u001b[38;5;124mf\u001b[39m\u001b[38;5;124m'\u001b[39m\u001b[38;5;124m$\u001b[39m\u001b[38;5;130;01m\\t\u001b[39;00m\u001b[38;5;132;01m{\u001b[39;00mkey\u001b[38;5;241m.\u001b[39mupper()\u001b[38;5;132;01m}\u001b[39;00m\u001b[38;5;124m$\u001b[39m\u001b[38;5;124m'\u001b[39m)\n\u001b[1;32m---> 88\u001b[0m sns\u001b[38;5;241m.\u001b[39mcountplot(x\u001b[38;5;241m=\u001b[39mvalue[column],palette\u001b[38;5;241m=\u001b[39m\u001b[38;5;124m\"\u001b[39m\u001b[38;5;124mhusl\u001b[39m\u001b[38;5;124m\"\u001b[39m,hue\u001b[38;5;241m=\u001b[39mcolumn, data\u001b[38;5;241m=\u001b[39mvalue, legend\u001b[38;5;241m=\u001b[39m\u001b[38;5;28;01mFalse\u001b[39;00m) \n\u001b[0;32m     89\u001b[0m ax\u001b[38;5;241m.\u001b[39maxhline(mean,linewidth\u001b[38;5;241m=\u001b[39m\u001b[38;5;241m1\u001b[39m,color\u001b[38;5;241m=\u001b[39m\u001b[38;5;124m'\u001b[39m\u001b[38;5;124mr\u001b[39m\u001b[38;5;124m'\u001b[39m)\n\u001b[0;32m     90\u001b[0m ax\u001b[38;5;241m.\u001b[39mset_xlabel(\u001b[38;5;124m'\u001b[39m\u001b[38;5;124m'\u001b[39m)\n",
      "File \u001b[1;32mC:\\ProgramData\\anaconda3\\Lib\\site-packages\\seaborn\\categorical.py:2955\u001b[0m, in \u001b[0;36mcountplot\u001b[1;34m(data, x, y, hue, order, hue_order, orient, color, palette, saturation, width, dodge, ax, **kwargs)\u001b[0m\n\u001b[0;32m   2952\u001b[0m \u001b[38;5;28;01mif\u001b[39;00m ax \u001b[38;5;129;01mis\u001b[39;00m \u001b[38;5;28;01mNone\u001b[39;00m:\n\u001b[0;32m   2953\u001b[0m     ax \u001b[38;5;241m=\u001b[39m plt\u001b[38;5;241m.\u001b[39mgca()\n\u001b[1;32m-> 2955\u001b[0m plotter\u001b[38;5;241m.\u001b[39mplot(ax, kwargs)\n\u001b[0;32m   2956\u001b[0m \u001b[38;5;28;01mreturn\u001b[39;00m ax\n",
      "File \u001b[1;32mC:\\ProgramData\\anaconda3\\Lib\\site-packages\\seaborn\\categorical.py:1586\u001b[0m, in \u001b[0;36m_BarPlotter.plot\u001b[1;34m(self, ax, bar_kws)\u001b[0m\n\u001b[0;32m   1584\u001b[0m \u001b[38;5;28;01mdef\u001b[39;00m \u001b[38;5;21mplot\u001b[39m(\u001b[38;5;28mself\u001b[39m, ax, bar_kws):\n\u001b[0;32m   1585\u001b[0m \u001b[38;5;250m    \u001b[39m\u001b[38;5;124;03m\"\"\"Make the plot.\"\"\"\u001b[39;00m\n\u001b[1;32m-> 1586\u001b[0m     \u001b[38;5;28mself\u001b[39m\u001b[38;5;241m.\u001b[39mdraw_bars(ax, bar_kws)\n\u001b[0;32m   1587\u001b[0m     \u001b[38;5;28mself\u001b[39m\u001b[38;5;241m.\u001b[39mannotate_axes(ax)\n\u001b[0;32m   1588\u001b[0m     \u001b[38;5;28;01mif\u001b[39;00m \u001b[38;5;28mself\u001b[39m\u001b[38;5;241m.\u001b[39morient \u001b[38;5;241m==\u001b[39m \u001b[38;5;124m\"\u001b[39m\u001b[38;5;124mh\u001b[39m\u001b[38;5;124m\"\u001b[39m:\n",
      "File \u001b[1;32mC:\\ProgramData\\anaconda3\\Lib\\site-packages\\seaborn\\categorical.py:1569\u001b[0m, in \u001b[0;36m_BarPlotter.draw_bars\u001b[1;34m(self, ax, kws)\u001b[0m\n\u001b[0;32m   1565\u001b[0m \u001b[38;5;28;01mfor\u001b[39;00m j, hue_level \u001b[38;5;129;01min\u001b[39;00m \u001b[38;5;28menumerate\u001b[39m(\u001b[38;5;28mself\u001b[39m\u001b[38;5;241m.\u001b[39mhue_names):\n\u001b[0;32m   1566\u001b[0m \n\u001b[0;32m   1567\u001b[0m     \u001b[38;5;66;03m# Draw the bars\u001b[39;00m\n\u001b[0;32m   1568\u001b[0m     offpos \u001b[38;5;241m=\u001b[39m barpos \u001b[38;5;241m+\u001b[39m \u001b[38;5;28mself\u001b[39m\u001b[38;5;241m.\u001b[39mhue_offsets[j]\n\u001b[1;32m-> 1569\u001b[0m     barfunc(offpos, \u001b[38;5;28mself\u001b[39m\u001b[38;5;241m.\u001b[39mstatistic[:, j], \u001b[38;5;28mself\u001b[39m\u001b[38;5;241m.\u001b[39mnested_width,\n\u001b[0;32m   1570\u001b[0m             color\u001b[38;5;241m=\u001b[39m\u001b[38;5;28mself\u001b[39m\u001b[38;5;241m.\u001b[39mcolors[j], align\u001b[38;5;241m=\u001b[39m\u001b[38;5;124m\"\u001b[39m\u001b[38;5;124mcenter\u001b[39m\u001b[38;5;124m\"\u001b[39m,\n\u001b[0;32m   1571\u001b[0m             label\u001b[38;5;241m=\u001b[39mhue_level, \u001b[38;5;241m*\u001b[39m\u001b[38;5;241m*\u001b[39mkws)\n\u001b[0;32m   1573\u001b[0m     \u001b[38;5;66;03m# Draw the confidence intervals\u001b[39;00m\n\u001b[0;32m   1574\u001b[0m     \u001b[38;5;28;01mif\u001b[39;00m \u001b[38;5;28mself\u001b[39m\u001b[38;5;241m.\u001b[39mconfint\u001b[38;5;241m.\u001b[39msize:\n",
      "File \u001b[1;32m~\\AppData\\Roaming\\Python\\Python311\\site-packages\\matplotlib\\__init__.py:1478\u001b[0m, in \u001b[0;36m_preprocess_data.<locals>.inner\u001b[1;34m(ax, data, *args, **kwargs)\u001b[0m\n\u001b[0;32m   1475\u001b[0m \u001b[38;5;129m@functools\u001b[39m\u001b[38;5;241m.\u001b[39mwraps(func)\n\u001b[0;32m   1476\u001b[0m \u001b[38;5;28;01mdef\u001b[39;00m \u001b[38;5;21minner\u001b[39m(ax, \u001b[38;5;241m*\u001b[39margs, data\u001b[38;5;241m=\u001b[39m\u001b[38;5;28;01mNone\u001b[39;00m, \u001b[38;5;241m*\u001b[39m\u001b[38;5;241m*\u001b[39mkwargs):\n\u001b[0;32m   1477\u001b[0m     \u001b[38;5;28;01mif\u001b[39;00m data \u001b[38;5;129;01mis\u001b[39;00m \u001b[38;5;28;01mNone\u001b[39;00m:\n\u001b[1;32m-> 1478\u001b[0m         \u001b[38;5;28;01mreturn\u001b[39;00m func(ax, \u001b[38;5;241m*\u001b[39m\u001b[38;5;28mmap\u001b[39m(sanitize_sequence, args), \u001b[38;5;241m*\u001b[39m\u001b[38;5;241m*\u001b[39mkwargs)\n\u001b[0;32m   1480\u001b[0m     bound \u001b[38;5;241m=\u001b[39m new_sig\u001b[38;5;241m.\u001b[39mbind(ax, \u001b[38;5;241m*\u001b[39margs, \u001b[38;5;241m*\u001b[39m\u001b[38;5;241m*\u001b[39mkwargs)\n\u001b[0;32m   1481\u001b[0m     auto_label \u001b[38;5;241m=\u001b[39m (bound\u001b[38;5;241m.\u001b[39marguments\u001b[38;5;241m.\u001b[39mget(label_namer)\n\u001b[0;32m   1482\u001b[0m                   \u001b[38;5;129;01mor\u001b[39;00m bound\u001b[38;5;241m.\u001b[39mkwargs\u001b[38;5;241m.\u001b[39mget(label_namer))\n",
      "File \u001b[1;32m~\\AppData\\Roaming\\Python\\Python311\\site-packages\\matplotlib\\axes\\_axes.py:2531\u001b[0m, in \u001b[0;36mAxes.bar\u001b[1;34m(self, x, height, width, bottom, align, **kwargs)\u001b[0m\n\u001b[0;32m   2522\u001b[0m \u001b[38;5;28;01mfor\u001b[39;00m l, b, w, h, c, e, lw, htch, lbl \u001b[38;5;129;01min\u001b[39;00m args:\n\u001b[0;32m   2523\u001b[0m     r \u001b[38;5;241m=\u001b[39m mpatches\u001b[38;5;241m.\u001b[39mRectangle(\n\u001b[0;32m   2524\u001b[0m         xy\u001b[38;5;241m=\u001b[39m(l, b), width\u001b[38;5;241m=\u001b[39mw, height\u001b[38;5;241m=\u001b[39mh,\n\u001b[0;32m   2525\u001b[0m         facecolor\u001b[38;5;241m=\u001b[39mc,\n\u001b[1;32m   (...)\u001b[0m\n\u001b[0;32m   2529\u001b[0m         hatch\u001b[38;5;241m=\u001b[39mhtch,\n\u001b[0;32m   2530\u001b[0m         )\n\u001b[1;32m-> 2531\u001b[0m     r\u001b[38;5;241m.\u001b[39m_internal_update(kwargs)\n\u001b[0;32m   2532\u001b[0m     r\u001b[38;5;241m.\u001b[39mget_path()\u001b[38;5;241m.\u001b[39m_interpolation_steps \u001b[38;5;241m=\u001b[39m \u001b[38;5;241m100\u001b[39m\n\u001b[0;32m   2533\u001b[0m     \u001b[38;5;28;01mif\u001b[39;00m orientation \u001b[38;5;241m==\u001b[39m \u001b[38;5;124m'\u001b[39m\u001b[38;5;124mvertical\u001b[39m\u001b[38;5;124m'\u001b[39m:\n",
      "File \u001b[1;32m~\\AppData\\Roaming\\Python\\Python311\\site-packages\\matplotlib\\artist.py:1219\u001b[0m, in \u001b[0;36mArtist._internal_update\u001b[1;34m(self, kwargs)\u001b[0m\n\u001b[0;32m   1212\u001b[0m \u001b[38;5;28;01mdef\u001b[39;00m \u001b[38;5;21m_internal_update\u001b[39m(\u001b[38;5;28mself\u001b[39m, kwargs):\n\u001b[0;32m   1213\u001b[0m \u001b[38;5;250m    \u001b[39m\u001b[38;5;124;03m\"\"\"\u001b[39;00m\n\u001b[0;32m   1214\u001b[0m \u001b[38;5;124;03m    Update artist properties without prenormalizing them, but generating\u001b[39;00m\n\u001b[0;32m   1215\u001b[0m \u001b[38;5;124;03m    errors as if calling `set`.\u001b[39;00m\n\u001b[0;32m   1216\u001b[0m \n\u001b[0;32m   1217\u001b[0m \u001b[38;5;124;03m    The lack of prenormalization is to maintain backcompatibility.\u001b[39;00m\n\u001b[0;32m   1218\u001b[0m \u001b[38;5;124;03m    \"\"\"\u001b[39;00m\n\u001b[1;32m-> 1219\u001b[0m     \u001b[38;5;28;01mreturn\u001b[39;00m \u001b[38;5;28mself\u001b[39m\u001b[38;5;241m.\u001b[39m_update_props(\n\u001b[0;32m   1220\u001b[0m         kwargs, \u001b[38;5;124m\"\u001b[39m\u001b[38;5;132;01m{cls.__name__}\u001b[39;00m\u001b[38;5;124m.set() got an unexpected keyword argument \u001b[39m\u001b[38;5;124m\"\u001b[39m\n\u001b[0;32m   1221\u001b[0m         \u001b[38;5;124m\"\u001b[39m\u001b[38;5;132;01m{prop_name!r}\u001b[39;00m\u001b[38;5;124m\"\u001b[39m)\n",
      "File \u001b[1;32m~\\AppData\\Roaming\\Python\\Python311\\site-packages\\matplotlib\\artist.py:1193\u001b[0m, in \u001b[0;36mArtist._update_props\u001b[1;34m(self, props, errfmt)\u001b[0m\n\u001b[0;32m   1191\u001b[0m             func \u001b[38;5;241m=\u001b[39m \u001b[38;5;28mgetattr\u001b[39m(\u001b[38;5;28mself\u001b[39m, \u001b[38;5;124mf\u001b[39m\u001b[38;5;124m\"\u001b[39m\u001b[38;5;124mset_\u001b[39m\u001b[38;5;132;01m{\u001b[39;00mk\u001b[38;5;132;01m}\u001b[39;00m\u001b[38;5;124m\"\u001b[39m, \u001b[38;5;28;01mNone\u001b[39;00m)\n\u001b[0;32m   1192\u001b[0m             \u001b[38;5;28;01mif\u001b[39;00m \u001b[38;5;129;01mnot\u001b[39;00m \u001b[38;5;28mcallable\u001b[39m(func):\n\u001b[1;32m-> 1193\u001b[0m                 \u001b[38;5;28;01mraise\u001b[39;00m \u001b[38;5;167;01mAttributeError\u001b[39;00m(\n\u001b[0;32m   1194\u001b[0m                     errfmt\u001b[38;5;241m.\u001b[39mformat(\u001b[38;5;28mcls\u001b[39m\u001b[38;5;241m=\u001b[39m\u001b[38;5;28mtype\u001b[39m(\u001b[38;5;28mself\u001b[39m), prop_name\u001b[38;5;241m=\u001b[39mk))\n\u001b[0;32m   1195\u001b[0m             ret\u001b[38;5;241m.\u001b[39mappend(func(v))\n\u001b[0;32m   1196\u001b[0m \u001b[38;5;28;01mif\u001b[39;00m ret:\n",
      "\u001b[1;31mAttributeError\u001b[0m: Rectangle.set() got an unexpected keyword argument 'legend'"
     ]
    },
    {
     "data": {
      "image/png": "[encoded data removed]",
      "text/plain": [
       "<Figure size 1600x1000 with 1 Axes>"
      ]
     },
     "metadata": {},
     "output_type": "display_data"
    }
   ],
   "source": [
    "sc.plot_simple_features('FSNELDER','elderly',\"Number of Elderly(over age 60)\")"
   ]
  },
  {
   "cell_type": "code",
   "execution_count": null,
   "id": "b6c3a3ae-0c87-43bf-bbea-e9c007ad81ab",
   "metadata": {},
   "outputs": [],
   "source": [
    "#single-female head of household - FSNGMOM\n",
    "sc.plot_simple_features('FSNGMOM','single_mom',\"Number of Single Mom as Head of Household\")"
   ]
  },
  {
   "cell_type": "code",
   "execution_count": null,
   "id": "12aca02f-d8cc-4409-a8a4-a668fa62cf86",
   "metadata": {
    "tags": []
   },
   "outputs": [],
   "source": [
    "#number of children - FSNKID\n",
    "sc.plot_simple_features('FSNKID','no_children',\"Number of Children over 5\")"
   ]
  },
  {
   "cell_type": "code",
   "execution_count": null,
   "id": "2bec09ea-d196-4790-992b-ded275603d5f",
   "metadata": {
    "tags": []
   },
   "outputs": [],
   "source": [
    "#number of children under 5 = FSNK5T17\n",
    "sc.plot_simple_features('FSNK5T17','no_toddler',\"Number of Children under 5\")"
   ]
  },
  {
   "cell_type": "code",
   "execution_count": null,
   "id": "3374626b-351e-4f9a-b2a5-dc9a3d8f7646",
   "metadata": {
    "tags": []
   },
   "outputs": [],
   "source": [
    "#number of noncitizens in unit = FSNONCIT\n",
    "sc.plot_simple_features('FSNONCIT','non_citiz',\"Number of Non-Citizens\")"
   ]
  },
  {
   "cell_type": "markdown",
   "id": "3b84ea70-bd66-4009-a50e-806157c47af7",
   "metadata": {},
   "source": [
    "# Null Values"
   ]
  },
  {
   "cell_type": "markdown",
   "id": "be814a30-c7c7-401c-a0f7-82a48a3e1116",
   "metadata": {},
   "source": [
    "This will be a long section dedicated to an initial reduction of columns by different treatments of null values."
   ]
  },
  {
   "cell_type": "markdown",
   "id": "0eca629a-3691-4b30-ae51-97019e19e307",
   "metadata": {},
   "source": [
    "## *Full Missing values*"
   ]
  },
  {
   "cell_type": "markdown",
   "id": "3c191b28-c037-4d29-aa64-0d8b39521f7d",
   "metadata": {},
   "source": [
    "There are many columns that have no data in them at all, we will remove those."
   ]
  },
  {
   "cell_type": "markdown",
   "id": "5de612ca-0fc8-4b79-b858-bb3efdf3fe39",
   "metadata": {},
   "source": [
    "***New Mexico***"
   ]
  },
  {
   "cell_type": "code",
   "execution_count": null,
   "id": "4eef7427-9ec8-49db-ad84-83ceb8d04e88",
   "metadata": {
    "tags": []
   },
   "outputs": [],
   "source": [
    "with pd.option_context('display.max_rows', None):\n",
    "    print(df_nm07.isnull().sum().sort_values(ascending=False)[:96])"
   ]
  },
  {
   "cell_type": "code",
   "execution_count": null,
   "id": "279e1665-17f2-48b9-b36b-3b5512a39df5",
   "metadata": {
    "tags": []
   },
   "outputs": [],
   "source": [
    "#Remove those columns.\n",
    "first_cut = df_nm07.isnull().sum().sort_values(ascending=False)[:96]\n",
    "first_cut_df = pd.DataFrame([first_cut])\n",
    "first_cut_df.T\n",
    "fc_list = list(first_cut_df.columns)\n",
    "\n",
    "#remove them\n",
    "nm07 = df_nm07.drop(fc_list,axis=1)\n",
    "nm07"
   ]
  },
  {
   "cell_type": "code",
   "execution_count": null,
   "id": "becac66b-d21d-4657-a80d-f6edf21b1bf8",
   "metadata": {
    "tags": []
   },
   "outputs": [],
   "source": [
    "with pd.option_context('display.max_rows', None):\n",
    "    print(df_nm17.isnull().sum().sort_values(ascending=False)[:165])"
   ]
  },
  {
   "cell_type": "code",
   "execution_count": null,
   "id": "45303d58-f177-49f6-8586-aee32e50b267",
   "metadata": {
    "tags": []
   },
   "outputs": [],
   "source": [
    "#Remove those columns.\n",
    "first_cut = df_nm17.isnull().sum().sort_values(ascending=False)[:165]\n",
    "first_cut_df = pd.DataFrame([first_cut])\n",
    "first_cut_df.T\n",
    "fc_list = list(first_cut_df.columns)\n",
    "\n",
    "#remove them\n",
    "nm17 = df_nm17.drop(fc_list,axis=1)\n",
    "nm17"
   ]
  },
  {
   "cell_type": "markdown",
   "id": "4117fc93-9cde-48ff-8977-4fc82a4edeb8",
   "metadata": {},
   "source": [
    "***Nebraska***"
   ]
  },
  {
   "cell_type": "code",
   "execution_count": null,
   "id": "c75ef154-6962-4209-ac74-d7a003c12bdd",
   "metadata": {
    "tags": []
   },
   "outputs": [],
   "source": [
    "with pd.option_context('display.max_rows', None):\n",
    "    print(df_ne07.isnull().sum().sort_values(ascending=False)[:144])"
   ]
  },
  {
   "cell_type": "code",
   "execution_count": null,
   "id": "832430cd-db04-4587-b967-d5ba2696568e",
   "metadata": {
    "tags": []
   },
   "outputs": [],
   "source": [
    "#Remove those columns.\n",
    "first_cut = df_ne07.isnull().sum().sort_values(ascending=False)[:144]\n",
    "first_cut_df = pd.DataFrame([first_cut])\n",
    "first_cut_df.T\n",
    "fc_list = list(first_cut_df.columns)\n",
    "\n",
    "#remove them\n",
    "ne07 = df_ne07.drop(fc_list,axis=1)\n",
    "ne07"
   ]
  },
  {
   "cell_type": "code",
   "execution_count": null,
   "id": "c6770a44-542a-423f-b9b0-774f50d40848",
   "metadata": {
    "tags": []
   },
   "outputs": [],
   "source": [
    "with pd.option_context('display.max_rows', None):\n",
    "    print(df_ne17.isnull().sum().sort_values(ascending=False)[:91])"
   ]
  },
  {
   "cell_type": "code",
   "execution_count": null,
   "id": "55655fc9-12d3-4578-b267-9cf409d4ebe1",
   "metadata": {
    "tags": []
   },
   "outputs": [],
   "source": [
    "#Remove those columns.\n",
    "first_cut = df_ne17.isnull().sum().sort_values(ascending=False)[:91]\n",
    "first_cut_df = pd.DataFrame([first_cut])\n",
    "first_cut_df.T\n",
    "fc_list = list(first_cut_df.columns)\n",
    "\n",
    "#remove them\n",
    "ne17 = df_ne17.drop(fc_list,axis=1)\n",
    "ne17"
   ]
  },
  {
   "cell_type": "markdown",
   "id": "ef7012a7-cba8-4696-81df-4a2c00b4e321",
   "metadata": {},
   "source": [
    "### *Partial Missing: High Nullity*"
   ]
  },
  {
   "cell_type": "markdown",
   "id": "1d191187-6051-45b9-99e8-d41c7dbd0283",
   "metadata": {},
   "source": [
    "According to a paper called [The proportion of missing data should not be used to guide decisions on multiple imputation](https://www.sciencedirect.com/science/article/pii/S0895435618308710), I will be more concerned about the value of the data used to impute rather than the amount of missing information. In order to do that, I will use a 50% cutoff of missing rows in a column to ensure the imputation method is more accurate."
   ]
  },
  {
   "cell_type": "code",
   "execution_count": null,
   "id": "1445312a-2da5-4376-866b-5e93b4d8a434",
   "metadata": {
    "tags": []
   },
   "outputs": [],
   "source": [
    "dict_df = {'nm07':nm07,'nm17':nm17,'ne07':ne07,'ne17':ne17}"
   ]
  },
  {
   "cell_type": "code",
   "execution_count": null,
   "id": "a0bbfdaa-69e8-43c5-903f-b3ab74c51ba9",
   "metadata": {
    "tags": []
   },
   "outputs": [],
   "source": [
    "for key, value in dict_df.items():\n",
    "    print(f'50% mark for high nullitary columns:')\n",
    "    print(f'{key}: {round(value.shape[0]/2)}')"
   ]
  },
  {
   "cell_type": "code",
   "execution_count": null,
   "id": "e5fe6d90-e33c-4d56-915d-3c4fa14deead",
   "metadata": {
    "tags": []
   },
   "outputs": [],
   "source": [
    "all_df_att = pd.DataFrame(dict_df.keys(), columns = ['name'])\n",
    "all_df_att['rows'] = [value.shape[0] for key,value in dict_df.items()]\n",
    "all_df_att['threshold'] = [round(value.shape[0]/2) for key, value in dict_df.items()]\n",
    "all_df_att['start_col'] = [value.shape[1] for key,value in dict_df.items()]\n",
    "all_df_att"
   ]
  },
  {
   "cell_type": "code",
   "execution_count": null,
   "id": "d3e2902d-8322-41cf-be8a-df126f5e4423",
   "metadata": {
    "tags": []
   },
   "outputs": [],
   "source": [
    "#New Mexico 2007\n",
    "null_counts = nm07.isnull().sum()\n",
    "nulls = null_counts[null_counts>628]\n",
    "sc_list = list(nulls.index)\n",
    "\n",
    "#remove them\n",
    "nm07 = nm07.drop(sc_list,axis=1)\n",
    "all_df_att['end_col'] = nm07.shape[1]\n",
    "all_df_att"
   ]
  },
  {
   "cell_type": "code",
   "execution_count": null,
   "id": "64da0eab-541e-4dbc-9216-7ba96850fce2",
   "metadata": {
    "tags": []
   },
   "outputs": [],
   "source": [
    "#New Mexico 2017\n",
    "null_counts = nm17.isnull().sum()\n",
    "nulls = null_counts[null_counts>482]\n",
    "sc_list = list(nulls.index)\n",
    "\n",
    "#remove them\n",
    "nm17 = nm17.drop(sc_list,axis=1)\n",
    "all_df_att.loc[all_df_att['name']=='nm17',['end_col']] = nm17.shape[1]\n",
    "all_df_att"
   ]
  },
  {
   "cell_type": "code",
   "execution_count": null,
   "id": "05e17273-be6c-41a7-a0ac-d3e73f698f11",
   "metadata": {
    "tags": []
   },
   "outputs": [],
   "source": [
    "#Nebraska 2007\n",
    "null_counts = ne07.isnull().sum()\n",
    "nulls = null_counts[null_counts>396]\n",
    "sc_list = list(nulls.index)\n",
    "\n",
    "#remove them\n",
    "ne07 = ne07.drop(sc_list,axis=1)\n",
    "all_df_att.loc[all_df_att['name']=='ne07',['end_col']] = ne07.shape[1]\n",
    "all_df_att"
   ]
  },
  {
   "cell_type": "code",
   "execution_count": null,
   "id": "a3a38005-c761-479f-bed2-e36a1bd1a7eb",
   "metadata": {
    "tags": []
   },
   "outputs": [],
   "source": [
    "#Nebraska 2017\n",
    "null_counts = ne17.isnull().sum()\n",
    "nulls = null_counts[null_counts>447]\n",
    "sc_list = list(nulls.index)\n",
    "\n",
    "#remove them\n",
    "ne17 = ne17.drop(sc_list,axis=1)\n",
    "all_df_att.loc[all_df_att['name']=='ne17',['end_col']] = ne17.shape[1]\n",
    "all_df_att"
   ]
  },
  {
   "cell_type": "markdown",
   "id": "c28f8b59-d834-490e-8413-5d365663dee1",
   "metadata": {},
   "source": [
    "### *Imputing null values with mean*"
   ]
  },
  {
   "cell_type": "markdown",
   "id": "02a7fa7a-d907-464d-88bd-9c466531dcbb",
   "metadata": {},
   "source": [
    "Now I will use scikitlearn imputer to fill in values for the rest of the columns with null values by accessing a script from the Py_Scripts file."
   ]
  },
  {
   "cell_type": "code",
   "execution_count": null,
   "id": "229a2885-7846-41a6-86bb-501a9d05f60d",
   "metadata": {
    "tags": []
   },
   "outputs": [],
   "source": [
    "nm07 = sc.impute_df(nm07)\n",
    "nm17 = sc.impute_df(nm17)\n",
    "ne07 = sc.impute_df(ne07)\n",
    "ne17 = sc.impute_df(ne17)"
   ]
  },
  {
   "cell_type": "markdown",
   "id": "5b831c65-e64a-4d17-9d91-6b8933b8260d",
   "metadata": {},
   "source": [
    "**Observation:** Now that I have imputed the mean, we still have columns that have all zero's as their values. We will drop those columns."
   ]
  },
  {
   "cell_type": "code",
   "execution_count": null,
   "id": "3b00daaa-4f67-46be-b861-1fcd02d9b325",
   "metadata": {
    "tags": []
   },
   "outputs": [],
   "source": [
    "nm07 = sc.only_zero(nm07)\n",
    "nm17 = sc.only_zero(nm17)\n",
    "ne07 = sc.only_zero(ne07)\n",
    "ne17 = sc.only_zero(ne17)"
   ]
  },
  {
   "cell_type": "code",
   "execution_count": null,
   "id": "c63eeb29-cb7a-4730-ade5-e978687c29fc",
   "metadata": {
    "tags": []
   },
   "outputs": [],
   "source": [
    "all_df_att['orig'] = 0\n",
    "all_df_att['final_col']=0\n",
    "\n",
    "all_df_att.loc[all_df_att['name']=='nm07',['orig']] = df_nm07.shape[1]\n",
    "all_df_att.loc[all_df_att['name']=='nm17',['orig']] = df_nm17.shape[1]\n",
    "all_df_att.loc[all_df_att['name']=='ne07',['orig']] = df_ne07.shape[1]\n",
    "all_df_att.loc[all_df_att['name']=='ne17',['orig']] = df_ne17.shape[1]\n",
    "\n",
    "all_df_att.loc[all_df_att['name']=='nm07',['final_col']] = nm07.shape[1]\n",
    "all_df_att.loc[all_df_att['name']=='nm17',['final_col']] = nm17.shape[1]\n",
    "all_df_att.loc[all_df_att['name']=='ne07',['final_col']] = ne07.shape[1]\n",
    "all_df_att.loc[all_df_att['name']=='ne17',['final_col']] = ne17.shape[1]"
   ]
  },
  {
   "cell_type": "code",
   "execution_count": null,
   "id": "57b36e58-032a-4a17-bcc5-08df81f75dca",
   "metadata": {
    "tags": []
   },
   "outputs": [],
   "source": [
    "all_df_att.set_index('name')"
   ]
  },
  {
   "cell_type": "code",
   "execution_count": null,
   "id": "fab428a7-a25d-4809-b8c3-70202c31f3e2",
   "metadata": {
    "tags": []
   },
   "outputs": [],
   "source": [
    "quarter = (all_df_att['orig'].mean())*.25\n",
    "\n",
    "fig, ax = plt.subplots(figsize=(20,10))\n",
    "all_df_att[['orig','final_col']].plot.bar(ax=ax)\n",
    "plt.xlabel('Dataset',fontsize=15)\n",
    "plt.ylabel('Column count',fontsize=15)\n",
    "plt.xticks([0, 1, 2,3],labels=['nm07','nm17','ne07','ne17'],rotation=360)\n",
    "plt.axhline(y=quarter,linewidth=1,color='r')\n",
    "plt.legend(fontsize=15)\n",
    "plt.title('We are left with a quarter of the original columns \\n (red line shows the quarter mark of the original column mean count)',fontsize=20)\n",
    "plt.savefig('./images/final_null.png');"
   ]
  },
  {
   "cell_type": "markdown",
   "id": "39a9d426-8e12-49ae-9027-f02dd8a36648",
   "metadata": {},
   "source": [
    "# Save Clean Files"
   ]
  },
  {
   "cell_type": "code",
   "execution_count": null,
   "id": "0442443a-dbd1-4400-93e0-c586b02abeae",
   "metadata": {
    "tags": []
   },
   "outputs": [],
   "source": [
    "nm07_target.reset_index(drop=True,inplace=True)\n",
    "nm07 = nm07.assign(CAT_ELIG=nm07_target)\n",
    "nm07 = nm07.astype('float64')\n",
    "nm07.to_csv('./data/clean_nm07.csv',index=None)"
   ]
  },
  {
   "cell_type": "code",
   "execution_count": null,
   "id": "35941004-1e17-44f3-a398-4c0dd5526be9",
   "metadata": {
    "tags": []
   },
   "outputs": [],
   "source": [
    "nm17_target.reset_index(drop=True,inplace=True)\n",
    "nm17 = nm17.assign(CAT_ELIG=nm17_target)\n",
    "nm17 = nm17.astype('float64')\n",
    "nm17.to_csv('./data/clean_nm17.csv',index=None)"
   ]
  },
  {
   "cell_type": "code",
   "execution_count": null,
   "id": "9642159b-0f5c-45fd-a75e-2284218fa87f",
   "metadata": {
    "tags": []
   },
   "outputs": [],
   "source": [
    "ne07_target.reset_index(drop=True,inplace=True)\n",
    "ne07 = ne07.assign(CAT_ELIG=ne07_target)\n",
    "ne07 = ne07.astype('float64')\n",
    "ne07.to_csv('./data/clean_ne07.csv',index=None)"
   ]
  },
  {
   "cell_type": "code",
   "execution_count": null,
   "id": "da846992-9752-4682-96cc-5865dfdbbe7c",
   "metadata": {
    "tags": []
   },
   "outputs": [],
   "source": [
    "ne17_target.reset_index(drop=True,inplace=True)\n",
    "ne17 = ne17.assign(CAT_ELIG=ne17_target)\n",
    "ne17 = ne17.astype('float64')\n",
    "ne17.to_csv('./data/clean_ne17.csv',index=None)"
   ]
  },
  {
   "cell_type": "code",
   "execution_count": null,
   "id": "f71c83fe-bd49-48e2-8d05-4d6fc0eca202",
   "metadata": {},
   "outputs": [],
   "source": []
  }
 ],
 "metadata": {
  "kernelspec": {
   "display_name": "Python 3 (ipykernel)",
   "language": "python",
   "name": "python3"
  },
  "language_info": {
   "codemirror_mode": {
    "name": "ipython",
    "version": 3
   },
   "file_extension": ".py",
   "mimetype": "text/x-python",
   "name": "python",
   "nbconvert_exporter": "python",
   "pygments_lexer": "ipython3",
   "version": "3.11.5"
  }
 },
 "nbformat": 4,
 "nbformat_minor": 5
}
